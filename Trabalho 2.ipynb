{
 "metadata": {
  "name": "",
  "signature": "sha256:d73c02ff7493596daa16e741d24465c9bcca993c01254aaa9ce55b60dd1f4623"
 },
 "nbformat": 3,
 "nbformat_minor": 0,
 "worksheets": [
  {
   "cells": [
    {
     "cell_type": "heading",
     "level": 1,
     "metadata": {},
     "source": [
      "Imports"
     ]
    },
    {
     "cell_type": "code",
     "collapsed": true,
     "input": [
      "import os\n",
      "import matplotlib.pyplot as pl\n",
      "import pandas as pd\n",
      "import numpy as np\n",
      "import random\n",
      "import scipy.io\n",
      "from math import ceil\n",
      "from collections import defaultdict\n",
      "%matplotlib inline"
     ],
     "language": "python",
     "metadata": {},
     "outputs": [],
     "prompt_number": 1
    },
    {
     "cell_type": "heading",
     "level": 1,
     "metadata": {},
     "source": [
      "Constantes"
     ]
    },
    {
     "cell_type": "code",
     "collapsed": true,
     "input": [
      "DADOS_FOLDER = 'Dados'\n",
      "DADOS_FILENAME = 'abalone.data'\n",
      "DADOS_FILEPATH = os.path.join(DADOS_FOLDER, DADOS_FILENAME)\n",
      "\n",
      "DADOS_COLUMNS = ['Sex', 'Length', 'Diameter', 'Height', 'Whole weight', 'Shucked weight', 'Viscera weight', 'Shell weight', 'Rings']\n",
      "SEX_TO_INT = {\"M\":-1., \"F\":1., \"I\":0.}\n",
      "\n",
      "PROP_TREINO = .8"
     ],
     "language": "python",
     "metadata": {},
     "outputs": [],
     "prompt_number": 2
    },
    {
     "cell_type": "heading",
     "level": 1,
     "metadata": {},
     "source": [
      "Carregamento dos dados"
     ]
    },
    {
     "cell_type": "code",
     "collapsed": true,
     "input": [
      "dados = np.genfromtxt(DADOS_FILEPATH, delimiter=',', converters={ 0: lambda x: SEX_TO_INT[x]})"
     ],
     "language": "python",
     "metadata": {},
     "outputs": [],
     "prompt_number": 3
    },
    {
     "cell_type": "heading",
     "level": 1,
     "metadata": {},
     "source": [
      "Fun\u00e7\u00f5es auxiliares"
     ]
    },
    {
     "cell_type": "code",
     "collapsed": true,
     "input": [
      "# norma de frobenius de \n",
      "def norma_frobenius(w):\n",
      "    \n",
      "    return np.sqrt(np.trace(np.dot(w.T, w)))\n",
      "\n",
      "\"\"\"ns \u00e9 um array de sizes. a fun\u00e7\u00e3o retorna um array de arrays de \u00edndices randomicamente escolhidos, com sizes iguais aos informados\n",
      "\"\"\"\n",
      "def indices_random(ns):\n",
      "    \n",
      "    n = np.sum(ns)\n",
      "    i_ns = np.cumsum(ns)\n",
      "    \n",
      "    indices_random = np.random.permutation(np.arange(0, n, 1))\n",
      "    \n",
      "    return np.array_split(indices_random, i_ns)[:-1]    \n",
      "\n",
      "\"\"\" retorna o array de Ys convertido em arrays de 0's e 1's \n",
      "    fun\u00e7\u00e3o que faz a convers\u00e3o inversa\n",
      "    classes\"\"\"\n",
      "def to_array_classes(ys):\n",
      "    \n",
      "    # quais s\u00e3o as classes\n",
      "    classes = np.unique(ys)\n",
      "    # quantidade de classes\n",
      "    num_classes = classes.size\n",
      "    \n",
      "    # indices de 0 a num_classes - 1, a serem utilizados para representar a posi\u00e7\u00e3o daquela classe no vetor resultante\n",
      "    indexes = range(num_classes)\n",
      "    \n",
      "    map_index_classe = dict(zip(indexes, classes))\n",
      "    \n",
      "    map_classe_index = dict(zip(classes, indexes))\n",
      "\n",
      "    # cria matriz onde cada linha i \u00e9 o vetor de 0's e 1's representando a classe da linha i em ys\n",
      "    # inicialmente com 0's. A seguir s\u00e3o setados os 1's\n",
      "    y_as_array_classes = np.zeros((ys.size, num_classes))\n",
      "    \n",
      "    for i, y in enumerate(ys):\n",
      "        \n",
      "        y_as_array_classes[i][map_classe_index[y]] = 1.\n",
      "    \n",
      "    def converte_i(x, m_i_c):\n",
      "        i = x.argmax()\n",
      "        return m_i_c[i]\n",
      "    \n",
      "    # converte uma matriz de 0's e 1's para o valor das classes: faz o sentido inverso da convers\u00e3o\n",
      "    def converte(x):\n",
      "        return np.apply_along_axis(converte_i, 1, x, map_index_classe)\n",
      "        \n",
      "    return y_as_array_classes, converte, classes.tolist()\n",
      "\n",
      "# retorna a taxa de acerto comparando os dois vetores\n",
      "def taxa_acerto(Y, _Y):\n",
      "    \n",
      "    return float(np.sum(Y==_Y))/len(Y)\n",
      "\n",
      "def qtd_acerto_classe(Y, _Y):\n",
      "    \n",
      "    taxas = defaultdict(float)\n",
      "    \n",
      "    for acerto in Y[Y==_Y]:\n",
      "        \n",
      "        taxas[acerto] += + 1\n",
      "        \n",
      "    return taxas        "
     ],
     "language": "python",
     "metadata": {},
     "outputs": [],
     "prompt_number": 4
    },
    {
     "cell_type": "heading",
     "level": 1,
     "metadata": {},
     "source": [
      "Perceptron Simples"
     ]
    },
    {
     "cell_type": "code",
     "collapsed": true,
     "input": [
      "def perceptron_simples(X, T, step=.0001, parada=.001, max_epocas=None):\n",
      "    \n",
      "    output_size, input_size = T.shape[1], X.shape[1]\n",
      "    \n",
      "    W = np.random.normal(.0, 1., [output_size, input_size + 1])\n",
      "    # matriz de pesos anterior\n",
      "    W_ant = None\n",
      "    \n",
      "    # adiciona x0=-1.\n",
      "    _ones = -1.*np.ones((X.shape[0], 1))\n",
      "    X = np.hstack((_ones, X))\n",
      "    \n",
      "    epoca = 0\n",
      "    \n",
      "    if max_epocas:\n",
      "        condicao = lambda: epoca < max_epocas\n",
      "    else:\n",
      "        condicao = lambda: True\n",
      "        \n",
      "    while condicao():\n",
      "        \n",
      "        W_ant = W.copy()\n",
      "        \n",
      "        Tp = (np.dot(W, X.T)).T\n",
      "        E = T - Tp\n",
      "        W = W_ant + step*np.dot(E.T, X)\n",
      "        \n",
      "        epoca = epoca + 1\n",
      "        if norma_frobenius(W - W_ant) <= parada:\n",
      "            break\n",
      "       \n",
      "    return W"
     ],
     "language": "python",
     "metadata": {},
     "outputs": [],
     "prompt_number": 18
    },
    {
     "cell_type": "heading",
     "level": 1,
     "metadata": {},
     "source": [
      "Execu\u00e7\u00e3o com os dados"
     ]
    },
    {
     "cell_type": "code",
     "collapsed": false,
     "input": [
      "%%time\n",
      "X = dados[:, :-1]\n",
      "Y = dados[:, -1]\n",
      "T, converte, classes = to_array_classes(Y)\n",
      "\n",
      "# a_ -> taxa de acertos. q_ -> taxa de acertos por classe(dict)\n",
      "Ws, a_treino, q_treino, a_teste, q_teste = [], [], [], [], []\n",
      "\n",
      "size_exemplos = X.shape[0]\n",
      "size_treino = int(ceil(PROP_TREINO*size_exemplos))\n",
      "size_teste = size_exemplos - size_treino\n",
      "\n",
      "for i in xrange(100):\n",
      "    # randomiza\u00e7\u00e3o dos dados\n",
      "    i_treino, i_teste = indices_random([size_treino, size_teste])\n",
      "    X_treino, T_treino = X[i_treino, :], T[i_treino, :]\n",
      "    X_teste, T_teste = X[i_teste, :], T[i_teste, :]\n",
      "    \n",
      "    W = perceptron_simples(X_treino, T_treino, max_epocas=1000)\n",
      "    Ws.append(W)\n",
      "    \n",
      "    # coleta de taxas de acerto\n",
      "    # treino\n",
      "    X_treino = np.hstack((-1*np.ones((X_treino.shape[0], 1)), X_treino))\n",
      "    _T_treino = np.dot(W, X_treino.T).T\n",
      "    Y_treino, _Y_treino = converte(T_treino), converte(_T_treino)        \n",
      "    \n",
      "    a_treino.append(taxa_acerto(Y_treino, _Y_treino))\n",
      "    q_treino.append(qtd_acerto_classe(Y_treino, _Y_treino))\n",
      "    # teste\n",
      "    X_teste = np.hstack((-1*np.ones((X_teste.shape[0], 1)), X_teste))\n",
      "    _T_teste = np.dot(W, X_teste.T).T\n",
      "    Y_teste, _Y_teste = converte(T_teste), converte(_T_teste)        \n",
      "    \n",
      "    a_teste.append(taxa_acerto(Y_teste, _Y_teste))\n",
      "    q_teste.append(qtd_acerto_classe(Y_teste, _Y_teste))"
     ],
     "language": "python",
     "metadata": {},
     "outputs": [
      {
       "output_type": "stream",
       "stream": "stdout",
       "text": [
        "CPU times: user 12min 11s, sys: 3.97 s, total: 12min 15s\n",
        "Wall time: 12min 18s\n"
       ]
      }
     ],
     "prompt_number": 19
    },
    {
     "cell_type": "code",
     "collapsed": false,
     "input": [
      "a_treino = pd.DataFrame(a_treino, columns=['taxa de acerto'])\n",
      "a_teste = pd.DataFrame(a_teste, columns=['taxa de acerto'])"
     ],
     "language": "python",
     "metadata": {},
     "outputs": [],
     "prompt_number": 20
    },
    {
     "cell_type": "code",
     "collapsed": false,
     "input": [
      "a_treino.describe()"
     ],
     "language": "python",
     "metadata": {},
     "outputs": [
      {
       "html": [
        "<div style=\"max-height:1000px;max-width:1500px;overflow:auto;\">\n",
        "<table border=\"1\" class=\"dataframe\">\n",
        "  <thead>\n",
        "    <tr style=\"text-align: right;\">\n",
        "      <th></th>\n",
        "      <th>taxa de acerto</th>\n",
        "    </tr>\n",
        "  </thead>\n",
        "  <tbody>\n",
        "    <tr>\n",
        "      <th>count</th>\n",
        "      <td> 100.000000</td>\n",
        "    </tr>\n",
        "    <tr>\n",
        "      <th>mean</th>\n",
        "      <td>   0.222756</td>\n",
        "    </tr>\n",
        "    <tr>\n",
        "      <th>std</th>\n",
        "      <td>   0.009628</td>\n",
        "    </tr>\n",
        "    <tr>\n",
        "      <th>min</th>\n",
        "      <td>   0.193896</td>\n",
        "    </tr>\n",
        "    <tr>\n",
        "      <th>25%</th>\n",
        "      <td>   0.216562</td>\n",
        "    </tr>\n",
        "    <tr>\n",
        "      <th>50%</th>\n",
        "      <td>   0.222920</td>\n",
        "    </tr>\n",
        "    <tr>\n",
        "      <th>75%</th>\n",
        "      <td>   0.230177</td>\n",
        "    </tr>\n",
        "    <tr>\n",
        "      <th>max</th>\n",
        "      <td>   0.247157</td>\n",
        "    </tr>\n",
        "  </tbody>\n",
        "</table>\n",
        "<p>8 rows \u00d7 1 columns</p>\n",
        "</div>"
       ],
       "metadata": {},
       "output_type": "pyout",
       "prompt_number": 21,
       "text": [
        "       taxa de acerto\n",
        "count      100.000000\n",
        "mean         0.222756\n",
        "std          0.009628\n",
        "min          0.193896\n",
        "25%          0.216562\n",
        "50%          0.222920\n",
        "75%          0.230177\n",
        "max          0.247157\n",
        "\n",
        "[8 rows x 1 columns]"
       ]
      }
     ],
     "prompt_number": 21
    },
    {
     "cell_type": "code",
     "collapsed": false,
     "input": [
      "a_treino.hist()"
     ],
     "language": "python",
     "metadata": {},
     "outputs": [
      {
       "metadata": {},
       "output_type": "pyout",
       "prompt_number": 22,
       "text": [
        "array([[<matplotlib.axes.AxesSubplot object at 0x7f5fe38083d0>]], dtype=object)"
       ]
      },
      {
       "metadata": {},
       "output_type": "display_data",
       "png": "[encoded data removed]",
       "text": [
        "<matplotlib.figure.Figure at 0x7f5fe39a3a50>"
       ]
      }
     ],
     "prompt_number": 22
    },
    {
     "cell_type": "code",
     "collapsed": false,
     "input": [
      "a_treino.boxplot()"
     ],
     "language": "python",
     "metadata": {},
     "outputs": [
      {
       "metadata": {},
       "output_type": "pyout",
       "prompt_number": 23,
       "text": [
        "{'boxes': [<matplotlib.lines.Line2D at 0x7f5fe3656f90>],\n",
        " 'caps': [<matplotlib.lines.Line2D at 0x7f5fe3656350>,\n",
        "  <matplotlib.lines.Line2D at 0x7f5fe3656950>],\n",
        " 'fliers': [<matplotlib.lines.Line2D at 0x7f5fe3660c50>,\n",
        "  <matplotlib.lines.Line2D at 0x7f5fe366a650>],\n",
        " 'medians': [<matplotlib.lines.Line2D at 0x7f5fe3660610>],\n",
        " 'whiskers': [<matplotlib.lines.Line2D at 0x7f5fe364b9d0>,\n",
        "  <matplotlib.lines.Line2D at 0x7f5fe364bc50>]}"
       ]
      },
      {
       "metadata": {},
       "output_type": "display_data",
       "png": "[encoded data removed]",
       "text": [
        "<matplotlib.figure.Figure at 0x7f5fe38a9290>"
       ]
      }
     ],
     "prompt_number": 23
    },
    {
     "cell_type": "code",
     "collapsed": false,
     "input": [
      "a_teste.describe()"
     ],
     "language": "python",
     "metadata": {},
     "outputs": [
      {
       "html": [
        "<div style=\"max-height:1000px;max-width:1500px;overflow:auto;\">\n",
        "<table border=\"1\" class=\"dataframe\">\n",
        "  <thead>\n",
        "    <tr style=\"text-align: right;\">\n",
        "      <th></th>\n",
        "      <th>taxa de acerto</th>\n",
        "    </tr>\n",
        "  </thead>\n",
        "  <tbody>\n",
        "    <tr>\n",
        "      <th>count</th>\n",
        "      <td> 100.000000</td>\n",
        "    </tr>\n",
        "    <tr>\n",
        "      <th>mean</th>\n",
        "      <td>   0.218838</td>\n",
        "    </tr>\n",
        "    <tr>\n",
        "      <th>std</th>\n",
        "      <td>   0.014766</td>\n",
        "    </tr>\n",
        "    <tr>\n",
        "      <th>min</th>\n",
        "      <td>   0.176048</td>\n",
        "    </tr>\n",
        "    <tr>\n",
        "      <th>25%</th>\n",
        "      <td>   0.210778</td>\n",
        "    </tr>\n",
        "    <tr>\n",
        "      <th>50%</th>\n",
        "      <td>   0.218563</td>\n",
        "    </tr>\n",
        "    <tr>\n",
        "      <th>75%</th>\n",
        "      <td>   0.227545</td>\n",
        "    </tr>\n",
        "    <tr>\n",
        "      <th>max</th>\n",
        "      <td>   0.258683</td>\n",
        "    </tr>\n",
        "  </tbody>\n",
        "</table>\n",
        "<p>8 rows \u00d7 1 columns</p>\n",
        "</div>"
       ],
       "metadata": {},
       "output_type": "pyout",
       "prompt_number": 24,
       "text": [
        "       taxa de acerto\n",
        "count      100.000000\n",
        "mean         0.218838\n",
        "std          0.014766\n",
        "min          0.176048\n",
        "25%          0.210778\n",
        "50%          0.218563\n",
        "75%          0.227545\n",
        "max          0.258683\n",
        "\n",
        "[8 rows x 1 columns]"
       ]
      }
     ],
     "prompt_number": 24
    },
    {
     "cell_type": "code",
     "collapsed": false,
     "input": [
      "a_teste.hist()"
     ],
     "language": "python",
     "metadata": {},
     "outputs": [
      {
       "metadata": {},
       "output_type": "pyout",
       "prompt_number": 25,
       "text": [
        "array([[<matplotlib.axes.AxesSubplot object at 0x7f5fe3682810>]], dtype=object)"
       ]
      },
      {
       "metadata": {},
       "output_type": "display_data",
       "png": "[encoded data removed]",
       "text": [
        "<matplotlib.figure.Figure at 0x7f5fe361c7d0>"
       ]
      }
     ],
     "prompt_number": 25
    },
    {
     "cell_type": "code",
     "collapsed": false,
     "input": [
      "a_teste.boxplot()"
     ],
     "language": "python",
     "metadata": {},
     "outputs": [
      {
       "metadata": {},
       "output_type": "pyout",
       "prompt_number": 37,
       "text": [
        "{'boxes': [<matplotlib.lines.Line2D at 0x7f5fe33eec90>],\n",
        " 'caps': [<matplotlib.lines.Line2D at 0x7f5fe33ee050>,\n",
        "  <matplotlib.lines.Line2D at 0x7f5fe33ee650>],\n",
        " 'fliers': [<matplotlib.lines.Line2D at 0x7f5fe33f6950>,\n",
        "  <matplotlib.lines.Line2D at 0x7f5fe33f6f50>],\n",
        " 'medians': [<matplotlib.lines.Line2D at 0x7f5fe33f6310>],\n",
        " 'whiskers': [<matplotlib.lines.Line2D at 0x7f5fe33e06d0>,\n",
        "  <matplotlib.lines.Line2D at 0x7f5fe33e0950>]}"
       ]
      },
      {
       "metadata": {},
       "output_type": "display_data",
       "png": "[encoded data removed]",
       "text": [
        "<matplotlib.figure.Figure at 0x7f5fe3572650>"
       ]
      }
     ],
     "prompt_number": 37
    },
    {
     "cell_type": "code",
     "collapsed": false,
     "input": [
      "a_treino.to_csv('t2_a_treino.csv')"
     ],
     "language": "python",
     "metadata": {},
     "outputs": [],
     "prompt_number": 38
    },
    {
     "cell_type": "code",
     "collapsed": false,
     "input": [
      "a_teste.to_csv('t2_a_teste.csv')"
     ],
     "language": "python",
     "metadata": {},
     "outputs": [],
     "prompt_number": 39
    }
   ],
   "metadata": {}
  }
 ]
}