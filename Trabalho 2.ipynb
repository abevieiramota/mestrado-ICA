{
 "metadata": {
  "name": "",
  "signature": "sha256:6a37736559865a32fa72720d8a8d08c3844e01ef736a95d39dbfd7a26a409169"
 },
 "nbformat": 3,
 "nbformat_minor": 0,
 "worksheets": [
  {
   "cells": [
    {
     "cell_type": "heading",
     "level": 1,
     "metadata": {},
     "source": [
      "Imports"
     ]
    },
    {
     "cell_type": "code",
     "collapsed": true,
     "input": [
      "import os\n",
      "from matplotlib import pyplot as pl\n",
      "import pandas as pd\n",
      "import numpy as np\n",
      "import random\n",
      "import scipy.io"
     ],
     "language": "python",
     "metadata": {},
     "outputs": [],
     "prompt_number": 1
    },
    {
     "cell_type": "heading",
     "level": 1,
     "metadata": {},
     "source": [
      "Constantes"
     ]
    },
    {
     "cell_type": "code",
     "collapsed": true,
     "input": [
      "DADOS_FOLDER = 'Dados'\n",
      "DADOS_FILENAME = 'abalone.data'\n",
      "DADOS_FILEPATH = os.path.join(DADOS_FOLDER, DADOS_FILENAME)\n",
      "\n",
      "DADOS_COLUMNS = ['Sex', 'Length', 'Diameter', 'Height', 'Whole weight', 'Shucked weight', 'Viscera weight', 'Shell weight', 'Rings']\n",
      "SEX_TO_INT = {\"M\":-1., \"F\":1., \"I\":0.}"
     ],
     "language": "python",
     "metadata": {},
     "outputs": [],
     "prompt_number": 2
    },
    {
     "cell_type": "heading",
     "level": 1,
     "metadata": {},
     "source": [
      "Carregamento dos dados"
     ]
    },
    {
     "cell_type": "code",
     "collapsed": true,
     "input": [
      "dados = np.genfromtxt(DADOS_FILEPATH, delimiter=',', converters={ 0: lambda x: SEX_TO_INT[x]})"
     ],
     "language": "python",
     "metadata": {},
     "outputs": [],
     "prompt_number": 3
    },
    {
     "cell_type": "heading",
     "level": 1,
     "metadata": {},
     "source": [
      "Convers\u00e3o da coluna y para vetor de 0's e 1's"
     ]
    },
    {
     "cell_type": "code",
     "collapsed": true,
     "input": [
      "\"\"\" retorna o array de Ys convertido em arrays de 0's e 1's \n",
      "    fun\u00e7\u00e3o que faz a convers\u00e3o inversa\n",
      "    classes\"\"\"\n",
      "def to_array_classes(ys):\n",
      "    \n",
      "    # quais s\u00e3o as classes\n",
      "    classes = np.unique(ys)\n",
      "    # quantidade de classes\n",
      "    num_classes = classes.size\n",
      "    \n",
      "    # indices de 0 a num_classes - 1, a serem utilizados para representar a posi\u00e7\u00e3o daquela classe no vetor resultante\n",
      "    indexes = range(num_classes)\n",
      "    \n",
      "    map_index_classe = dict(zip(indexes, classes))\n",
      "    \n",
      "    map_classe_index = dict(zip(classes, indexes))\n",
      "\n",
      "    # cria matriz onde cada linha i \u00e9 o vetor de 0's e 1's representando a classe da linha i em ys\n",
      "    # inicialmente com 0's. A seguir s\u00e3o setados os 1's\n",
      "    y_as_array_classes = np.zeros((ys.size, num_classes))\n",
      "    \n",
      "    for i, y in enumerate(ys):\n",
      "        \n",
      "        y_as_array_classes[i][map_classe_index[y]] = 1.\n",
      "    \n",
      "    def converte_i(x, m_i_c):\n",
      "        i = x.argmax()\n",
      "        return m_i_c[i]\n",
      "    \n",
      "    # converte uma matriz de 0's e 1's para o valor das classes: faz o sentido inverso da convers\u00e3o\n",
      "    def converte(x):\n",
      "        return np.apply_along_axis(converte_i, 1, x, map_index_classe)\n",
      "        \n",
      "    return y_as_array_classes, converte, classes.tolist()"
     ],
     "language": "python",
     "metadata": {},
     "outputs": [],
     "prompt_number": 4
    },
    {
     "cell_type": "heading",
     "level": 1,
     "metadata": {},
     "source": [
      "Fun\u00e7\u00e3o para randomiza\u00e7\u00e3o de \u00edndices"
     ]
    },
    {
     "cell_type": "code",
     "collapsed": true,
     "input": [
      "\"\"\"ns \u00e9 um array de sizes. a fun\u00e7\u00e3o retorna um array de arrays de \u00edndices randomicamente escolhidos, com sizes iguais aos informados\n",
      "\"\"\"\n",
      "def indices_random(ns):\n",
      "    \n",
      "    n = np.sum(ns)\n",
      "    i_ns = np.cumsum(ns)\n",
      "    \n",
      "    indices_random = np.random.permutation(np.arange(0, n, 1))\n",
      "    \n",
      "    return np.array_split(indices_random, i_ns)[:-1]    "
     ],
     "language": "python",
     "metadata": {},
     "outputs": [],
     "prompt_number": 5
    },
    {
     "cell_type": "heading",
     "level": 1,
     "metadata": {},
     "source": [
      "Fun\u00e7\u00f5es auxiliares"
     ]
    },
    {
     "cell_type": "code",
     "collapsed": true,
     "input": [
      "# norma de frobenius de \n",
      "def norma_frobenius(w):\n",
      "    \n",
      "    return np.sqrt(np.trace(np.dot(w.T, w)))"
     ],
     "language": "python",
     "metadata": {},
     "outputs": [],
     "prompt_number": 6
    },
    {
     "cell_type": "heading",
     "level": 1,
     "metadata": {},
     "source": [
      "Perceptron Simples"
     ]
    },
    {
     "cell_type": "code",
     "collapsed": true,
     "input": [
      "def perceptron_simples(X, T, step=.0001, parada=.001, max_epocas=None):\n",
      "    \n",
      "    output_size, input_size = T.shape[1], X.shape[1]\n",
      "    \n",
      "    W = np.random.normal(.0, 5., [output_size, input_size + 1])\n",
      "    # matriz de pesos anterior\n",
      "    W_ant = None\n",
      "    \n",
      "    # adiciona x0=-1.\n",
      "    _ones = -1.*np.ones((X.shape[0], 1))\n",
      "    X = np.hstack((_ones, X))\n",
      "    \n",
      "    epoca = 0\n",
      "    \n",
      "    if max_epocas:\n",
      "        condicao = lambda: epoca < max_epocas\n",
      "    else:\n",
      "        condicao = lambda: True\n",
      "        \n",
      "    while condicao():\n",
      "        \n",
      "        W_ant = W.copy()\n",
      "        \n",
      "        Tp = (np.dot(W, X.T)).T\n",
      "        E = T - Tp\n",
      "        W = W_ant + step*np.dot(E.T, X)\n",
      "        \n",
      "        epoca = epoca + 1\n",
      "        if norma_frobenius(W - W_ant) <= parada:\n",
      "            print \"parou pela norma de Frobenius\"\n",
      "            break\n",
      "       \n",
      "    print \"realizadas\", epoca, \"epocas\"\n",
      "    return W"
     ],
     "language": "python",
     "metadata": {},
     "outputs": [],
     "prompt_number": 96
    },
    {
     "cell_type": "heading",
     "level": 1,
     "metadata": {},
     "source": [
      "Execu\u00e7\u00e3o com os dados"
     ]
    },
    {
     "cell_type": "code",
     "collapsed": false,
     "input": [
      "X = dados[:, :-1]\n",
      "Y = dados[:, -1]\n",
      "T, converte, classes = to_array_classes(Y)\n",
      "\n",
      "W = perceptron_simples(X, T, step=.0001, parada=.0001, max_epocas=5000)"
     ],
     "language": "python",
     "metadata": {},
     "outputs": [
      {
       "output_type": "stream",
       "stream": "stdout",
       "text": [
        "realizadas 5000 epocas\n"
       ]
      }
     ],
     "prompt_number": 105
    },
    {
     "cell_type": "code",
     "collapsed": false,
     "input": [
      "X = np.hstack((-1*np.ones((X.shape[0], 1)), X))\n",
      "_T = (np.dot(W, X.T)).T"
     ],
     "language": "python",
     "metadata": {},
     "outputs": [],
     "prompt_number": 106
    },
    {
     "cell_type": "code",
     "collapsed": false,
     "input": [
      "erros = converte(T) != converte(_T)"
     ],
     "language": "python",
     "metadata": {},
     "outputs": [],
     "prompt_number": 107
    },
    {
     "cell_type": "code",
     "collapsed": false,
     "input": [
      "np.sum(erros)"
     ],
     "language": "python",
     "metadata": {},
     "outputs": [
      {
       "metadata": {},
       "output_type": "pyout",
       "prompt_number": 108,
       "text": [
        "3270"
       ]
      }
     ],
     "prompt_number": 108
    },
    {
     "cell_type": "code",
     "collapsed": false,
     "input": [
      "converte(T)[:10]"
     ],
     "language": "python",
     "metadata": {},
     "outputs": [
      {
       "metadata": {},
       "output_type": "pyout",
       "prompt_number": 109,
       "text": [
        "array([ 15.,   7.,   9.,  10.,   7.,   8.,  20.,  16.,   9.,  19.])"
       ]
      }
     ],
     "prompt_number": 109
    },
    {
     "cell_type": "code",
     "collapsed": false,
     "input": [
      "converte(_T)[:10]"
     ],
     "language": "python",
     "metadata": {},
     "outputs": [
      {
       "metadata": {},
       "output_type": "pyout",
       "prompt_number": 110,
       "text": [
        "array([  5.,   7.,   9.,  10.,   6.,   9.,  12.,  11.,   8.,  11.])"
       ]
      }
     ],
     "prompt_number": 110
    },
    {
     "cell_type": "code",
     "collapsed": false,
     "input": [
      "classes_qtd = {classe: len(T[converte(T)==classe]) for classe in classes}\n",
      "for classe in classes:\n",
      "    print \"classe\", classe, \"quantidade\", len(T[converte(T)==classe])"
     ],
     "language": "python",
     "metadata": {},
     "outputs": [
      {
       "output_type": "stream",
       "stream": "stdout",
       "text": [
        "classe 1.0 quantidade "
       ]
      },
      {
       "output_type": "stream",
       "stream": "stdout",
       "text": [
        "1\n",
        "classe 2.0 quantidade "
       ]
      },
      {
       "output_type": "stream",
       "stream": "stdout",
       "text": [
        "1\n",
        "classe 3.0 quantidade "
       ]
      },
      {
       "output_type": "stream",
       "stream": "stdout",
       "text": [
        "15\n",
        "classe 4.0 quantidade "
       ]
      },
      {
       "output_type": "stream",
       "stream": "stdout",
       "text": [
        "57\n",
        "classe 5.0 quantidade "
       ]
      },
      {
       "output_type": "stream",
       "stream": "stdout",
       "text": [
        "115\n",
        "classe 6.0 quantidade "
       ]
      },
      {
       "output_type": "stream",
       "stream": "stdout",
       "text": [
        "259\n",
        "classe 7.0 quantidade "
       ]
      },
      {
       "output_type": "stream",
       "stream": "stdout",
       "text": [
        "391\n",
        "classe 8.0 quantidade "
       ]
      },
      {
       "output_type": "stream",
       "stream": "stdout",
       "text": [
        "568\n",
        "classe 9.0 quantidade "
       ]
      },
      {
       "output_type": "stream",
       "stream": "stdout",
       "text": [
        "689\n",
        "classe 10.0 quantidade "
       ]
      },
      {
       "output_type": "stream",
       "stream": "stdout",
       "text": [
        "634\n",
        "classe 11.0 quantidade "
       ]
      },
      {
       "output_type": "stream",
       "stream": "stdout",
       "text": [
        "487\n",
        "classe 12.0 quantidade "
       ]
      },
      {
       "output_type": "stream",
       "stream": "stdout",
       "text": [
        "267\n",
        "classe 13.0 quantidade "
       ]
      },
      {
       "output_type": "stream",
       "stream": "stdout",
       "text": [
        "203\n",
        "classe 14.0 quantidade "
       ]
      },
      {
       "output_type": "stream",
       "stream": "stdout",
       "text": [
        "126\n",
        "classe 15.0 quantidade "
       ]
      },
      {
       "output_type": "stream",
       "stream": "stdout",
       "text": [
        "103\n",
        "classe 16.0 quantidade "
       ]
      },
      {
       "output_type": "stream",
       "stream": "stdout",
       "text": [
        "67\n",
        "classe 17.0 quantidade "
       ]
      },
      {
       "output_type": "stream",
       "stream": "stdout",
       "text": [
        "58\n",
        "classe 18.0 quantidade "
       ]
      },
      {
       "output_type": "stream",
       "stream": "stdout",
       "text": [
        "42\n",
        "classe 19.0 quantidade "
       ]
      },
      {
       "output_type": "stream",
       "stream": "stdout",
       "text": [
        "32\n",
        "classe 20.0 quantidade "
       ]
      },
      {
       "output_type": "stream",
       "stream": "stdout",
       "text": [
        "26\n",
        "classe 21.0 quantidade "
       ]
      },
      {
       "output_type": "stream",
       "stream": "stdout",
       "text": [
        "14\n",
        "classe 22.0 quantidade "
       ]
      },
      {
       "output_type": "stream",
       "stream": "stdout",
       "text": [
        "6\n",
        "classe 23.0 quantidade "
       ]
      },
      {
       "output_type": "stream",
       "stream": "stdout",
       "text": [
        "9\n",
        "classe 24.0 quantidade "
       ]
      },
      {
       "output_type": "stream",
       "stream": "stdout",
       "text": [
        "2\n",
        "classe 25.0 quantidade "
       ]
      },
      {
       "output_type": "stream",
       "stream": "stdout",
       "text": [
        "1\n",
        "classe 26.0 quantidade "
       ]
      },
      {
       "output_type": "stream",
       "stream": "stdout",
       "text": [
        "1\n",
        "classe 27.0 quantidade "
       ]
      },
      {
       "output_type": "stream",
       "stream": "stdout",
       "text": [
        "2\n",
        "classe 29.0 quantidade "
       ]
      },
      {
       "output_type": "stream",
       "stream": "stdout",
       "text": [
        "1\n"
       ]
      }
     ],
     "prompt_number": 122
    },
    {
     "cell_type": "code",
     "collapsed": false,
     "input": [
      "for classe in classes:\n",
      "    print \"classe\", classe, \"quantidade\", len(_T[converte(_T)==classe])"
     ],
     "language": "python",
     "metadata": {},
     "outputs": [
      {
       "output_type": "stream",
       "stream": "stdout",
       "text": [
        "classe 1.0 quantidade "
       ]
      },
      {
       "output_type": "stream",
       "stream": "stdout",
       "text": [
        "0\n",
        "classe 2.0 quantidade "
       ]
      },
      {
       "output_type": "stream",
       "stream": "stdout",
       "text": [
        "0\n",
        "classe 3.0 quantidade "
       ]
      },
      {
       "output_type": "stream",
       "stream": "stdout",
       "text": [
        "16\n",
        "classe 4.0 quantidade "
       ]
      },
      {
       "output_type": "stream",
       "stream": "stdout",
       "text": [
        "1\n",
        "classe 5.0 quantidade "
       ]
      },
      {
       "output_type": "stream",
       "stream": "stdout",
       "text": [
        "102\n",
        "classe 6.0 quantidade "
       ]
      },
      {
       "output_type": "stream",
       "stream": "stdout",
       "text": [
        "197\n",
        "classe 7.0 quantidade "
       ]
      },
      {
       "output_type": "stream",
       "stream": "stdout",
       "text": [
        "472\n",
        "classe 8.0 quantidade "
       ]
      },
      {
       "output_type": "stream",
       "stream": "stdout",
       "text": [
        "411\n",
        "classe 9.0 quantidade "
       ]
      },
      {
       "output_type": "stream",
       "stream": "stdout",
       "text": [
        "1297\n",
        "classe 10.0 quantidade "
       ]
      },
      {
       "output_type": "stream",
       "stream": "stdout",
       "text": [
        "1010\n",
        "classe 11.0 quantidade "
       ]
      },
      {
       "output_type": "stream",
       "stream": "stdout",
       "text": [
        "465\n",
        "classe 12.0 quantidade "
       ]
      },
      {
       "output_type": "stream",
       "stream": "stdout",
       "text": [
        "52\n",
        "classe 13.0 quantidade "
       ]
      },
      {
       "output_type": "stream",
       "stream": "stdout",
       "text": [
        "5\n",
        "classe 14.0 quantidade "
       ]
      },
      {
       "output_type": "stream",
       "stream": "stdout",
       "text": [
        "51\n",
        "classe 15.0 quantidade "
       ]
      },
      {
       "output_type": "stream",
       "stream": "stdout",
       "text": [
        "1\n",
        "classe 16.0 quantidade "
       ]
      },
      {
       "output_type": "stream",
       "stream": "stdout",
       "text": [
        "8\n",
        "classe 17.0 quantidade "
       ]
      },
      {
       "output_type": "stream",
       "stream": "stdout",
       "text": [
        "49\n",
        "classe 18.0 quantidade "
       ]
      },
      {
       "output_type": "stream",
       "stream": "stdout",
       "text": [
        "0\n",
        "classe 19.0 quantidade "
       ]
      },
      {
       "output_type": "stream",
       "stream": "stdout",
       "text": [
        "0\n",
        "classe 20.0 quantidade "
       ]
      },
      {
       "output_type": "stream",
       "stream": "stdout",
       "text": [
        "19\n",
        "classe 21.0 quantidade "
       ]
      },
      {
       "output_type": "stream",
       "stream": "stdout",
       "text": [
        "0\n",
        "classe 22.0 quantidade "
       ]
      },
      {
       "output_type": "stream",
       "stream": "stdout",
       "text": [
        "0\n",
        "classe 23.0 quantidade "
       ]
      },
      {
       "output_type": "stream",
       "stream": "stdout",
       "text": [
        "0\n",
        "classe 24.0 quantidade "
       ]
      },
      {
       "output_type": "stream",
       "stream": "stdout",
       "text": [
        "19\n",
        "classe 25.0 quantidade "
       ]
      },
      {
       "output_type": "stream",
       "stream": "stdout",
       "text": [
        "2\n",
        "classe 26.0 quantidade "
       ]
      },
      {
       "output_type": "stream",
       "stream": "stdout",
       "text": [
        "0\n",
        "classe 27.0 quantidade "
       ]
      },
      {
       "output_type": "stream",
       "stream": "stdout",
       "text": [
        "0\n",
        "classe 29.0 quantidade "
       ]
      },
      {
       "output_type": "stream",
       "stream": "stdout",
       "text": [
        "0\n"
       ]
      }
     ],
     "prompt_number": 116
    },
    {
     "cell_type": "code",
     "collapsed": false,
     "input": [
      "classes_acertos = {classe: 0 for classe in classes}\n",
      "for t, _t in zip(converte(T), converte(_T)):\n",
      "    if t == _t:\n",
      "        classes_acertos[t] = classes_acertos[t] + 1    "
     ],
     "language": "python",
     "metadata": {},
     "outputs": [],
     "prompt_number": 117
    },
    {
     "cell_type": "code",
     "collapsed": false,
     "input": [
      "for classe in classes:\n",
      "    qtd = classes_qtd[classe]\n",
      "    acertos = classes_acertos[classe]\n",
      "    print qtd, acertos, float(acertos)*100/qtd"
     ],
     "language": "python",
     "metadata": {},
     "outputs": [
      {
       "output_type": "stream",
       "stream": "stdout",
       "text": [
        "1 0 0.0\n",
        "1 0 0.0\n",
        "15 0 0.0\n",
        "57 0 0.0\n",
        "115 16 13.9130434783\n",
        "259 48 18.5328185328\n",
        "391 101 25.831202046\n",
        "568 89 15.6690140845\n",
        "689 328 47.6052249637\n",
        "634 214 33.7539432177\n",
        "487 98 20.1232032854\n",
        "267 4 1.49812734082\n",
        "203 1 0.492610837438\n",
        "126 3 2.38095238095\n",
        "103 0 0.0\n",
        "67 0 0.0\n",
        "58 5 8.62068965517\n",
        "42 0 0.0\n",
        "32 0 0.0\n",
        "26 0 0.0\n",
        "14 0 0.0\n",
        "6 0 0.0\n",
        "9 0 0.0\n",
        "2 0 0.0\n",
        "1 0 0.0\n",
        "1 0 0.0\n",
        "2 0 0.0\n",
        "1 0 0.0\n"
       ]
      }
     ],
     "prompt_number": 127
    },
    {
     "cell_type": "code",
     "collapsed": false,
     "input": [
      "%matplotlib inline"
     ],
     "language": "python",
     "metadata": {},
     "outputs": [],
     "prompt_number": 129
    },
    {
     "cell_type": "code",
     "collapsed": false,
     "input": [
      "pl.hist(converte(_T))"
     ],
     "language": "python",
     "metadata": {},
     "outputs": [
      {
       "metadata": {},
       "output_type": "pyout",
       "prompt_number": 133,
       "text": [
        "(array([  119.,   669.,  1708.,  1475.,    57.,    60.,    49.,    19.,\n",
        "            0.,    21.]),\n",
        " array([  3. ,   5.2,   7.4,   9.6,  11.8,  14. ,  16.2,  18.4,  20.6,\n",
        "         22.8,  25. ]),\n",
        " <a list of 10 Patch objects>)"
       ]
      },
      {
       "metadata": {},
       "output_type": "display_data",
       "png": "[encoded data removed]",
       "text": [
        "<matplotlib.figure.Figure at 0x7f62df27d710>"
       ]
      }
     ],
     "prompt_number": 133
    },
    {
     "cell_type": "code",
     "collapsed": false,
     "input": [],
     "language": "python",
     "metadata": {},
     "outputs": []
    }
   ],
   "metadata": {}
  }
 ]
}