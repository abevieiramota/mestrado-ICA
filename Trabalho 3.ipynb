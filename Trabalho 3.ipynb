{
 "metadata": {
  "name": "",
  "signature": "sha256:a48403d88b0e6c1c8ac4b93077e46125646a2a39cbf189370a686eaf8897c4f1"
 },
 "nbformat": 3,
 "nbformat_minor": 0,
 "worksheets": [
  {
   "cells": [
    {
     "cell_type": "code",
     "collapsed": false,
     "input": [
      "from pybrain.tools.shortcuts import buildNetwork\n",
      "from pybrain.supervised.trainers import BackpropTrainer\n",
      "from pybrain.datasets import SupervisedDataSet\n",
      "import numpy as np\n",
      "from matplotlib import pyplot as pl\n",
      "from sklearn import cross_validation\n",
      "%matplotlib inline"
     ],
     "language": "python",
     "metadata": {},
     "outputs": [],
     "prompt_number": 5
    },
    {
     "cell_type": "code",
     "collapsed": false,
     "input": [
      "def to_array_classes(ys):\n",
      "    \n",
      "    # quais s\u00e3o as classes\n",
      "    classes = np.unique(ys)\n",
      "    # quantidade de classes\n",
      "    num_classes = classes.size\n",
      "    \n",
      "    # indices de 0 a num_classes - 1, a serem utilizados para representar a posi\u00e7\u00e3o daquela classe no vetor resultante\n",
      "    indexes = range(num_classes)\n",
      "    \n",
      "    map_index_classe = dict(zip(indexes, classes))\n",
      "    \n",
      "    map_classe_index = dict(zip(classes, indexes))\n",
      "\n",
      "    # cria matriz onde cada linha i \u00e9 o vetor de 0's e 1's representando a classe da linha i em ys\n",
      "    # inicialmente com 0's. A seguir s\u00e3o setados os 1's\n",
      "    y_as_array_classes = np.zeros((ys.size, num_classes))\n",
      "    \n",
      "    for i, y in enumerate(ys):\n",
      "        \n",
      "        y_as_array_classes[i][map_classe_index[y]] = 1.\n",
      "    \n",
      "    def converte_i(x, m_i_c):\n",
      "        i = x.argmax()\n",
      "        return m_i_c[i]\n",
      "    \n",
      "    # converte uma matriz de 0's e 1's para o valor das classes: faz o sentido inverso da convers\u00e3o\n",
      "    def converte(x):\n",
      "        return np.apply_along_axis(converte_i, 1, x, map_index_classe)\n",
      "        \n",
      "    return y_as_array_classes, converte, classes.tolist()"
     ],
     "language": "python",
     "metadata": {},
     "outputs": [],
     "prompt_number": 2
    },
    {
     "cell_type": "code",
     "collapsed": true,
     "input": [
      "SEX_TO_INT = {\"M\":-1., \"F\":1., \"I\":0.}\n",
      "dados = np.genfromtxt('Dados/abalone.data', delimiter=',', converters={0:lambda x: SEX_TO_INT[x]})\n",
      "X = dados[:, :-1]\n",
      "y = dados[:, -1]\n",
      "\n",
      "yc, converte, classes = to_array_classes(y)"
     ],
     "language": "python",
     "metadata": {},
     "outputs": [],
     "prompt_number": 3
    },
    {
     "cell_type": "code",
     "collapsed": false,
     "input": [
      "Xtr, Xte, ytr, yte = cross_validation.train_test_split(X, yc, test_size=.2)\n",
      "\n",
      "net = buildNetwork(X.shape[1], 3, len(classes))\n",
      "dataset = SupervisedDataSet(X.shape[1], len(classes))\n",
      "trainer = BackpropTrainer(net, dataset)\n",
      "\n",
      "dataset.setField('input', Xtr)\n",
      "dataset.setField('target', ytr)"
     ],
     "language": "python",
     "metadata": {},
     "outputs": [],
     "prompt_number": 8
    },
    {
     "cell_type": "code",
     "collapsed": false,
     "input": [
      "trainer.trainUntilConvergence(maxEpochs=20)"
     ],
     "language": "python",
     "metadata": {},
     "outputs": [
      {
       "metadata": {},
       "output_type": "pyout",
       "prompt_number": 9,
       "text": [
        "([0.023710845469789844,\n",
        "  0.016527603290415825,\n",
        "  0.016311414069084741,\n",
        "  0.016213856342221552,\n",
        "  0.016151670521674141,\n",
        "  0.016089071940870146,\n",
        "  0.016064263651220757,\n",
        "  0.016046898937229735,\n",
        "  0.016019523632364127,\n",
        "  0.015986581547164674,\n",
        "  0.015972208333211068,\n",
        "  0.015964650625152465,\n",
        "  0.01594468046065909,\n",
        "  0.015930496120594988,\n",
        "  0.015930069496832979,\n",
        "  0.015898555380791355,\n",
        "  0.015897597438742611,\n",
        "  0.015878448076223954,\n",
        "  0.015867989794809245,\n",
        "  0.015850463195288315,\n",
        "  0.01583224373183395,\n",
        "  0.01580173853772732],\n",
        " [0.51660125136423252,\n",
        "  0.016878984783951015,\n",
        "  0.016475293248603397,\n",
        "  0.016402913922698603,\n",
        "  0.016178785007850718,\n",
        "  0.016155300873418741,\n",
        "  0.016161931027804305,\n",
        "  0.016221761071626123,\n",
        "  0.01612663800609496,\n",
        "  0.016048049343305917,\n",
        "  0.01608359809387987,\n",
        "  0.016039867920437503,\n",
        "  0.015959076633728954,\n",
        "  0.015983169325213212,\n",
        "  0.016155635205580776,\n",
        "  0.015928106343388735,\n",
        "  0.015958945623866242,\n",
        "  0.016044490390626422,\n",
        "  0.015886186682299745,\n",
        "  0.015909473933049992,\n",
        "  0.01591017714725344,\n",
        "  0.015893099274812101])"
       ]
      }
     ],
     "prompt_number": 9
    },
    {
     "cell_type": "code",
     "collapsed": false,
     "input": [
      "pl.plot(xrange(len(errors)), errors)"
     ],
     "language": "python",
     "metadata": {},
     "outputs": [
      {
       "metadata": {},
       "output_type": "pyout",
       "prompt_number": 6,
       "text": [
        "[<matplotlib.lines.Line2D at 0x7fe75808e590>]"
       ]
      },
      {
       "metadata": {},
       "output_type": "display_data",
       "png": "[encoded data removed]",
       "text": [
        "<matplotlib.figure.Figure at 0x7fe733c3a1d0>"
       ]
      }
     ],
     "prompt_number": 6
    },
    {
     "cell_type": "code",
     "collapsed": false,
     "input": [],
     "language": "python",
     "metadata": {},
     "outputs": []
    }
   ],
   "metadata": {}
  }
 ]
}