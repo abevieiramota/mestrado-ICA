{
 "metadata": {
  "name": "",
  "signature": "sha256:29b20fd7e3c8c6057058f43cad78df6d52dcb810d7a8ea2943b6cb3793a3666a"
 },
 "nbformat": 3,
 "nbformat_minor": 0,
 "worksheets": [
  {
   "cells": [
    {
     "cell_type": "code",
     "collapsed": false,
     "input": [
      "from pybrain.tools.shortcuts import buildNetwork\n",
      "from pybrain.supervised.trainers import BackpropTrainer\n",
      "from pybrain.datasets import SupervisedDataSet\n",
      "import numpy as np\n",
      "from matplotlib import pyplot as pl\n",
      "from sklearn import cross_validation\n",
      "from sklearn import metrics\n",
      "import pickle\n",
      "%matplotlib inline"
     ],
     "language": "python",
     "metadata": {},
     "outputs": [],
     "prompt_number": 1
    },
    {
     "cell_type": "code",
     "collapsed": false,
     "input": [
      "def to_array_classes(ys):\n",
      "    \n",
      "    # quais s\u00e3o as classes\n",
      "    classes = np.unique(ys)\n",
      "    # quantidade de classes\n",
      "    num_classes = classes.size\n",
      "    \n",
      "    # indices de 0 a num_classes - 1, a serem utilizados para representar a posi\u00e7\u00e3o daquela classe no vetor resultante\n",
      "    indexes = range(num_classes)\n",
      "    \n",
      "    map_index_classe = dict(zip(indexes, classes))\n",
      "    \n",
      "    map_classe_index = dict(zip(classes, indexes))\n",
      "\n",
      "    # cria matriz onde cada linha i \u00e9 o vetor de 0's e 1's representando a classe da linha i em ys\n",
      "    # inicialmente com 0's. A seguir s\u00e3o setados os 1's\n",
      "    y_as_array_classes = np.zeros((ys.size, num_classes))\n",
      "    \n",
      "    for i, y in enumerate(ys):\n",
      "        \n",
      "        y_as_array_classes[i][map_classe_index[y]] = 1.\n",
      "    \n",
      "    def converte_i(x, m_i_c):\n",
      "        i = x.argmax()\n",
      "        return m_i_c[i]\n",
      "    \n",
      "    # converte uma matriz de 0's e 1's para o valor das classes: faz o sentido inverso da convers\u00e3o\n",
      "    def converte(x):\n",
      "        return np.apply_along_axis(converte_i, 1, x, map_index_classe)\n",
      "        \n",
      "    return y_as_array_classes, converte, classes.tolist()"
     ],
     "language": "python",
     "metadata": {},
     "outputs": [],
     "prompt_number": 2
    },
    {
     "cell_type": "code",
     "collapsed": true,
     "input": [
      "SEX_TO_INT = {\"M\":-1., \"F\":1., \"I\":0.}\n",
      "dados = np.genfromtxt('Dados/abalone.data', delimiter=',', converters={0:lambda x: SEX_TO_INT[x]})\n",
      "X = dados[:, :-1]\n",
      "y = dados[:, -1]\n",
      "\n",
      "yc, converte, classes = to_array_classes(y)"
     ],
     "language": "python",
     "metadata": {},
     "outputs": [],
     "prompt_number": 3
    },
    {
     "cell_type": "code",
     "collapsed": false,
     "input": [
      "%%time\n",
      "MAX_EPOCHS = 20\n",
      "INPUT_SIZE = X.shape[1]\n",
      "OUTPUT_SIZE = len(classes)\n",
      "# kolmogorov\n",
      "HIDDEN_SIZE = INPUT_SIZE*2+1 \n",
      "N_ITER = 100\n",
      "\n",
      "ss = cross_validation.ShuffleSplit(X.shape[0], n_iter=N_ITER, test_size=.2)\n",
      "test_errors = []\n",
      "cms = []\n",
      "\n",
      "for treinamento, (itr, ite) in enumerate(ss):\n",
      "\n",
      "    print '[INICIO] treinamento %d' % treinamento\n",
      "    \n",
      "    # salva os \u00edndices\n",
      "    pickle.dump([itr, ite], open('net/%d_index' % treinamento, 'w'))\n",
      "    # parti\u00e7\u00e3o dos dados\n",
      "    Xtr, Xte, ytr, yte = X[itr, :], X[ite, :], yc[itr, :], yc[ite, :]\n",
      "\n",
      "    # constru\u00e7\u00e3o da rede neural\n",
      "    net = buildNetwork(INPUT_SIZE, HIDDEN_SIZE, OUTPUT_SIZE)\n",
      "    treino_DS = SupervisedDataSet(INPUT_SIZE, OUTPUT_SIZE)\n",
      "    teste_DS = SupervisedDataSet(INPUT_SIZE, OUTPUT_SIZE)\n",
      "    trainer = BackpropTrainer(net, treino_DS)\n",
      "\n",
      "    treino_DS.setField('input', Xtr)\n",
      "    treino_DS.setField('target', ytr)\n",
      "\n",
      "    teste_DS.setField('input', Xte)\n",
      "    teste_DS.setField('target', yte)\n",
      "\n",
      "    # treinamento\n",
      "    trainer.trainUntilConvergence(maxEpochs=MAX_EPOCHS)\n",
      "    \n",
      "    # teste\n",
      "    y_predito = np.argmax(net.activateOnDataset(teste_DS), axis=1)+1\n",
      "    y_real = np.argmax(yte, axis=1)+1\n",
      "    test_error = metrics.accuracy_score(y_real, y_predito)\n",
      "    cm = metrics.confusion_matrix(y_real, y_predito)\n",
      "    \n",
      "    \n",
      "    # salva os resultados\n",
      "    pickle.dump(net, open('net/%d_net' % treinamento, 'w'))\n",
      "    test_errors.append(1. - test_error)\n",
      "    cms.append(cm)\n",
      "    \n",
      "    print '[FIM]treinamento %d' % treinamento"
     ],
     "language": "python",
     "metadata": {},
     "outputs": [
      {
       "output_type": "stream",
       "stream": "stdout",
       "text": [
        "[INICIO] treinamento 0\n",
        "[FIM]treinamento 0"
       ]
      },
      {
       "output_type": "stream",
       "stream": "stdout",
       "text": [
        "\n",
        "[INICIO] treinamento 1\n",
        "[FIM]treinamento 1"
       ]
      },
      {
       "output_type": "stream",
       "stream": "stdout",
       "text": [
        "\n",
        "[INICIO] treinamento 2\n",
        "[FIM]treinamento 2"
       ]
      },
      {
       "output_type": "stream",
       "stream": "stdout",
       "text": [
        "\n",
        "[INICIO] treinamento 3\n",
        "[FIM]treinamento 3"
       ]
      },
      {
       "output_type": "stream",
       "stream": "stdout",
       "text": [
        "\n",
        "[INICIO] treinamento 4\n",
        "[FIM]treinamento 4"
       ]
      },
      {
       "output_type": "stream",
       "stream": "stdout",
       "text": [
        "\n",
        "[INICIO] treinamento 5\n",
        "[FIM]treinamento 5"
       ]
      },
      {
       "output_type": "stream",
       "stream": "stdout",
       "text": [
        "\n",
        "[INICIO] treinamento 6\n",
        "[FIM]treinamento 6"
       ]
      },
      {
       "output_type": "stream",
       "stream": "stdout",
       "text": [
        "\n",
        "[INICIO] treinamento 7\n",
        "[FIM]treinamento 7"
       ]
      },
      {
       "output_type": "stream",
       "stream": "stdout",
       "text": [
        "\n",
        "[INICIO] treinamento 8\n",
        "[FIM]treinamento 8"
       ]
      },
      {
       "output_type": "stream",
       "stream": "stdout",
       "text": [
        "\n",
        "[INICIO] treinamento 9\n",
        "[FIM]treinamento 9"
       ]
      },
      {
       "output_type": "stream",
       "stream": "stdout",
       "text": [
        "\n",
        "[INICIO] treinamento 10\n",
        "[FIM]treinamento 10"
       ]
      },
      {
       "output_type": "stream",
       "stream": "stdout",
       "text": [
        "\n",
        "[INICIO] treinamento 11\n",
        "[FIM]treinamento 11"
       ]
      },
      {
       "output_type": "stream",
       "stream": "stdout",
       "text": [
        "\n",
        "[INICIO] treinamento 12\n",
        "[FIM]treinamento 12"
       ]
      },
      {
       "output_type": "stream",
       "stream": "stdout",
       "text": [
        "\n",
        "[INICIO] treinamento 13\n",
        "[FIM]treinamento 13"
       ]
      },
      {
       "output_type": "stream",
       "stream": "stdout",
       "text": [
        "\n",
        "[INICIO] treinamento 14\n",
        "[FIM]treinamento 14"
       ]
      },
      {
       "output_type": "stream",
       "stream": "stdout",
       "text": [
        "\n",
        "[INICIO] treinamento 15\n",
        "[FIM]treinamento 15"
       ]
      },
      {
       "output_type": "stream",
       "stream": "stdout",
       "text": [
        "\n",
        "[INICIO] treinamento 16\n",
        "[FIM]treinamento 16"
       ]
      },
      {
       "output_type": "stream",
       "stream": "stdout",
       "text": [
        "\n",
        "[INICIO] treinamento 17\n",
        "[FIM]treinamento 17"
       ]
      },
      {
       "output_type": "stream",
       "stream": "stdout",
       "text": [
        "\n",
        "[INICIO] treinamento 18\n",
        "[FIM]treinamento 18"
       ]
      },
      {
       "output_type": "stream",
       "stream": "stdout",
       "text": [
        "\n",
        "[INICIO] treinamento 19\n",
        "[FIM]treinamento 19"
       ]
      },
      {
       "output_type": "stream",
       "stream": "stdout",
       "text": [
        "\n",
        "[INICIO] treinamento 20\n",
        "[FIM]treinamento 20"
       ]
      },
      {
       "output_type": "stream",
       "stream": "stdout",
       "text": [
        "\n",
        "[INICIO] treinamento 21\n",
        "[FIM]treinamento 21"
       ]
      },
      {
       "output_type": "stream",
       "stream": "stdout",
       "text": [
        "\n",
        "[INICIO] treinamento 22\n",
        "[FIM]treinamento 22"
       ]
      },
      {
       "output_type": "stream",
       "stream": "stdout",
       "text": [
        "\n",
        "[INICIO] treinamento 23\n",
        "[FIM]treinamento 23"
       ]
      },
      {
       "output_type": "stream",
       "stream": "stdout",
       "text": [
        "\n",
        "[INICIO] treinamento 24\n",
        "[FIM]treinamento 24"
       ]
      },
      {
       "output_type": "stream",
       "stream": "stdout",
       "text": [
        "\n",
        "[INICIO] treinamento 25\n",
        "[FIM]treinamento 25"
       ]
      },
      {
       "output_type": "stream",
       "stream": "stdout",
       "text": [
        "\n",
        "[INICIO] treinamento 26\n",
        "[FIM]treinamento 26"
       ]
      },
      {
       "output_type": "stream",
       "stream": "stdout",
       "text": [
        "\n",
        "[INICIO] treinamento 27\n",
        "[FIM]treinamento 27"
       ]
      },
      {
       "output_type": "stream",
       "stream": "stdout",
       "text": [
        "\n",
        "[INICIO] treinamento 28\n",
        "[FIM]treinamento 28"
       ]
      },
      {
       "output_type": "stream",
       "stream": "stdout",
       "text": [
        "\n",
        "[INICIO] treinamento 29\n",
        "[FIM]treinamento 29"
       ]
      },
      {
       "output_type": "stream",
       "stream": "stdout",
       "text": [
        "\n",
        "[INICIO] treinamento 30\n",
        "[FIM]treinamento 30"
       ]
      },
      {
       "output_type": "stream",
       "stream": "stdout",
       "text": [
        "\n",
        "[INICIO] treinamento 31\n",
        "[FIM]treinamento 31"
       ]
      },
      {
       "output_type": "stream",
       "stream": "stdout",
       "text": [
        "\n",
        "[INICIO] treinamento 32\n",
        "[FIM]treinamento 32"
       ]
      },
      {
       "output_type": "stream",
       "stream": "stdout",
       "text": [
        "\n",
        "[INICIO] treinamento 33\n",
        "[FIM]treinamento 33"
       ]
      },
      {
       "output_type": "stream",
       "stream": "stdout",
       "text": [
        "\n",
        "[INICIO] treinamento 34\n",
        "[FIM]treinamento 34"
       ]
      },
      {
       "output_type": "stream",
       "stream": "stdout",
       "text": [
        "\n",
        "[INICIO] treinamento 35\n",
        "[FIM]treinamento 35"
       ]
      },
      {
       "output_type": "stream",
       "stream": "stdout",
       "text": [
        "\n",
        "[INICIO] treinamento 36\n",
        "[FIM]treinamento 36"
       ]
      },
      {
       "output_type": "stream",
       "stream": "stdout",
       "text": [
        "\n",
        "[INICIO] treinamento 37\n",
        "[FIM]treinamento 37"
       ]
      },
      {
       "output_type": "stream",
       "stream": "stdout",
       "text": [
        "\n",
        "[INICIO] treinamento 38\n",
        "[FIM]treinamento 38"
       ]
      },
      {
       "output_type": "stream",
       "stream": "stdout",
       "text": [
        "\n",
        "[INICIO] treinamento 39\n",
        "[FIM]treinamento 39"
       ]
      },
      {
       "output_type": "stream",
       "stream": "stdout",
       "text": [
        "\n",
        "[INICIO] treinamento 40\n",
        "[FIM]treinamento 40"
       ]
      },
      {
       "output_type": "stream",
       "stream": "stdout",
       "text": [
        "\n",
        "[INICIO] treinamento 41\n",
        "[FIM]treinamento 41"
       ]
      },
      {
       "output_type": "stream",
       "stream": "stdout",
       "text": [
        "\n",
        "[INICIO] treinamento 42\n",
        "[FIM]treinamento 42"
       ]
      },
      {
       "output_type": "stream",
       "stream": "stdout",
       "text": [
        "\n",
        "[INICIO] treinamento 43\n",
        "[FIM]treinamento 43"
       ]
      },
      {
       "output_type": "stream",
       "stream": "stdout",
       "text": [
        "\n",
        "[INICIO] treinamento 44\n",
        "[FIM]treinamento 44"
       ]
      },
      {
       "output_type": "stream",
       "stream": "stdout",
       "text": [
        "\n",
        "[INICIO] treinamento 45\n",
        "[FIM]treinamento 45"
       ]
      },
      {
       "output_type": "stream",
       "stream": "stdout",
       "text": [
        "\n",
        "[INICIO] treinamento 46\n",
        "[FIM]treinamento 46"
       ]
      },
      {
       "output_type": "stream",
       "stream": "stdout",
       "text": [
        "\n",
        "[INICIO] treinamento 47\n",
        "[FIM]treinamento 47"
       ]
      },
      {
       "output_type": "stream",
       "stream": "stdout",
       "text": [
        "\n",
        "[INICIO] treinamento 48\n",
        "[FIM]treinamento 48"
       ]
      },
      {
       "output_type": "stream",
       "stream": "stdout",
       "text": [
        "\n",
        "[INICIO] treinamento 49\n",
        "[FIM]treinamento 49"
       ]
      },
      {
       "output_type": "stream",
       "stream": "stdout",
       "text": [
        "\n",
        "[INICIO] treinamento 50\n",
        "[FIM]treinamento 50"
       ]
      },
      {
       "output_type": "stream",
       "stream": "stdout",
       "text": [
        "\n",
        "[INICIO] treinamento 51\n",
        "[FIM]treinamento 51"
       ]
      },
      {
       "output_type": "stream",
       "stream": "stdout",
       "text": [
        "\n",
        "[INICIO] treinamento 52\n",
        "[FIM]treinamento 52"
       ]
      },
      {
       "output_type": "stream",
       "stream": "stdout",
       "text": [
        "\n",
        "[INICIO] treinamento 53\n",
        "[FIM]treinamento 53"
       ]
      },
      {
       "output_type": "stream",
       "stream": "stdout",
       "text": [
        "\n",
        "[INICIO] treinamento 54\n",
        "[FIM]treinamento 54"
       ]
      },
      {
       "output_type": "stream",
       "stream": "stdout",
       "text": [
        "\n",
        "[INICIO] treinamento 55\n",
        "[FIM]treinamento 55"
       ]
      },
      {
       "output_type": "stream",
       "stream": "stdout",
       "text": [
        "\n",
        "[INICIO] treinamento 56\n",
        "[FIM]treinamento 56"
       ]
      },
      {
       "output_type": "stream",
       "stream": "stdout",
       "text": [
        "\n",
        "[INICIO] treinamento 57\n",
        "[FIM]treinamento 57"
       ]
      },
      {
       "output_type": "stream",
       "stream": "stdout",
       "text": [
        "\n",
        "[INICIO] treinamento 58\n",
        "[FIM]treinamento 58"
       ]
      },
      {
       "output_type": "stream",
       "stream": "stdout",
       "text": [
        "\n",
        "[INICIO] treinamento 59\n",
        "[FIM]treinamento 59"
       ]
      },
      {
       "output_type": "stream",
       "stream": "stdout",
       "text": [
        "\n",
        "[INICIO] treinamento 60\n",
        "[FIM]treinamento 60"
       ]
      },
      {
       "output_type": "stream",
       "stream": "stdout",
       "text": [
        "\n",
        "[INICIO] treinamento 61\n",
        "[FIM]treinamento 61"
       ]
      },
      {
       "output_type": "stream",
       "stream": "stdout",
       "text": [
        "\n",
        "[INICIO] treinamento 62\n",
        "[FIM]treinamento 62"
       ]
      },
      {
       "output_type": "stream",
       "stream": "stdout",
       "text": [
        "\n",
        "[INICIO] treinamento 63\n",
        "[FIM]treinamento 63"
       ]
      },
      {
       "output_type": "stream",
       "stream": "stdout",
       "text": [
        "\n",
        "[INICIO] treinamento 64\n",
        "[FIM]treinamento 64"
       ]
      },
      {
       "output_type": "stream",
       "stream": "stdout",
       "text": [
        "\n",
        "[INICIO] treinamento 65\n",
        "[FIM]treinamento 65"
       ]
      },
      {
       "output_type": "stream",
       "stream": "stdout",
       "text": [
        "\n",
        "[INICIO] treinamento 66\n",
        "[FIM]treinamento 66"
       ]
      },
      {
       "output_type": "stream",
       "stream": "stdout",
       "text": [
        "\n",
        "[INICIO] treinamento 67\n",
        "[FIM]treinamento 67"
       ]
      },
      {
       "output_type": "stream",
       "stream": "stdout",
       "text": [
        "\n",
        "[INICIO] treinamento 68\n",
        "[FIM]treinamento 68"
       ]
      },
      {
       "output_type": "stream",
       "stream": "stdout",
       "text": [
        "\n",
        "[INICIO] treinamento 69\n",
        "[FIM]treinamento 69"
       ]
      },
      {
       "output_type": "stream",
       "stream": "stdout",
       "text": [
        "\n",
        "[INICIO] treinamento 70\n",
        "[FIM]treinamento 70"
       ]
      },
      {
       "output_type": "stream",
       "stream": "stdout",
       "text": [
        "\n",
        "[INICIO] treinamento 71\n",
        "[FIM]treinamento 71"
       ]
      },
      {
       "output_type": "stream",
       "stream": "stdout",
       "text": [
        "\n",
        "[INICIO] treinamento 72\n",
        "[FIM]treinamento 72"
       ]
      },
      {
       "output_type": "stream",
       "stream": "stdout",
       "text": [
        "\n",
        "[INICIO] treinamento 73\n",
        "[FIM]treinamento 73"
       ]
      },
      {
       "output_type": "stream",
       "stream": "stdout",
       "text": [
        "\n",
        "[INICIO] treinamento 74\n",
        "[FIM]treinamento 74"
       ]
      },
      {
       "output_type": "stream",
       "stream": "stdout",
       "text": [
        "\n",
        "[INICIO] treinamento 75\n",
        "[FIM]treinamento 75"
       ]
      },
      {
       "output_type": "stream",
       "stream": "stdout",
       "text": [
        "\n",
        "[INICIO] treinamento 76\n",
        "[FIM]treinamento 76"
       ]
      },
      {
       "output_type": "stream",
       "stream": "stdout",
       "text": [
        "\n",
        "[INICIO] treinamento 77\n",
        "[FIM]treinamento 77"
       ]
      },
      {
       "output_type": "stream",
       "stream": "stdout",
       "text": [
        "\n",
        "[INICIO] treinamento 78\n",
        "[FIM]treinamento 78"
       ]
      },
      {
       "output_type": "stream",
       "stream": "stdout",
       "text": [
        "\n",
        "[INICIO] treinamento 79\n",
        "[FIM]treinamento 79"
       ]
      },
      {
       "output_type": "stream",
       "stream": "stdout",
       "text": [
        "\n",
        "[INICIO] treinamento 80\n",
        "[FIM]treinamento 80"
       ]
      },
      {
       "output_type": "stream",
       "stream": "stdout",
       "text": [
        "\n",
        "[INICIO] treinamento 81\n",
        "[FIM]treinamento 81"
       ]
      },
      {
       "output_type": "stream",
       "stream": "stdout",
       "text": [
        "\n",
        "[INICIO] treinamento 82\n",
        "[FIM]treinamento 82"
       ]
      },
      {
       "output_type": "stream",
       "stream": "stdout",
       "text": [
        "\n",
        "[INICIO] treinamento 83\n",
        "[FIM]treinamento 83"
       ]
      },
      {
       "output_type": "stream",
       "stream": "stdout",
       "text": [
        "\n",
        "[INICIO] treinamento 84\n",
        "[FIM]treinamento 84"
       ]
      },
      {
       "output_type": "stream",
       "stream": "stdout",
       "text": [
        "\n",
        "[INICIO] treinamento 85\n",
        "[FIM]treinamento 85"
       ]
      },
      {
       "output_type": "stream",
       "stream": "stdout",
       "text": [
        "\n",
        "[INICIO] treinamento 86\n",
        "[FIM]treinamento 86"
       ]
      },
      {
       "output_type": "stream",
       "stream": "stdout",
       "text": [
        "\n",
        "[INICIO] treinamento 87\n",
        "[FIM]treinamento 87"
       ]
      },
      {
       "output_type": "stream",
       "stream": "stdout",
       "text": [
        "\n",
        "[INICIO] treinamento 88\n",
        "[FIM]treinamento 88"
       ]
      },
      {
       "output_type": "stream",
       "stream": "stdout",
       "text": [
        "\n",
        "[INICIO] treinamento 89\n",
        "[FIM]treinamento 89"
       ]
      },
      {
       "output_type": "stream",
       "stream": "stdout",
       "text": [
        "\n",
        "[INICIO] treinamento 90\n",
        "[FIM]treinamento 90"
       ]
      },
      {
       "output_type": "stream",
       "stream": "stdout",
       "text": [
        "\n",
        "[INICIO] treinamento 91\n",
        "[FIM]treinamento 91"
       ]
      },
      {
       "output_type": "stream",
       "stream": "stdout",
       "text": [
        "\n",
        "[INICIO] treinamento 92\n",
        "[FIM]treinamento 92"
       ]
      },
      {
       "output_type": "stream",
       "stream": "stdout",
       "text": [
        "\n",
        "[INICIO] treinamento 93\n",
        "[FIM]treinamento 93"
       ]
      },
      {
       "output_type": "stream",
       "stream": "stdout",
       "text": [
        "\n",
        "[INICIO] treinamento 94\n",
        "[FIM]treinamento 94"
       ]
      },
      {
       "output_type": "stream",
       "stream": "stdout",
       "text": [
        "\n",
        "[INICIO] treinamento 95\n",
        "[FIM]treinamento 95"
       ]
      },
      {
       "output_type": "stream",
       "stream": "stdout",
       "text": [
        "\n",
        "[INICIO] treinamento 96\n",
        "[FIM]treinamento 96"
       ]
      },
      {
       "output_type": "stream",
       "stream": "stdout",
       "text": [
        "\n",
        "[INICIO] treinamento 97\n",
        "[FIM]treinamento 97"
       ]
      },
      {
       "output_type": "stream",
       "stream": "stdout",
       "text": [
        "\n",
        "[INICIO] treinamento 98\n",
        "[FIM]treinamento 98"
       ]
      },
      {
       "output_type": "stream",
       "stream": "stdout",
       "text": [
        "\n",
        "[INICIO] treinamento 99\n",
        "[FIM]treinamento 99"
       ]
      },
      {
       "output_type": "stream",
       "stream": "stdout",
       "text": [
        "\n",
        "CPU times: user 3h 1min 33s, sys: 24.7 s, total: 3h 1min 58s\n",
        "Wall time: 3h 2min 9s\n"
       ]
      }
     ],
     "prompt_number": 6
    },
    {
     "cell_type": "code",
     "collapsed": false,
     "input": [
      "pickle.dump(cms, open('cms', 'w'))\n",
      "pickle.dump(test_errors, open('test_errors', 'w'))"
     ],
     "language": "python",
     "metadata": {},
     "outputs": [],
     "prompt_number": 5
    },
    {
     "cell_type": "code",
     "collapsed": false,
     "input": [
      "CMS = 40\n",
      "fig = pl.figure(figsize=(8,8))\n",
      "ax = fig.add_subplot(1,1,1)\n",
      "\n",
      "num_labels = len(cms[CMS])\n",
      "\n",
      "im = ax.matshow(cms[CMS])\n",
      "ax.grid()\n",
      "ax.set_xticklabels(np.arange(0, num_labels, 1))\n",
      "ax.set_xticks(np.arange(0, num_labels, 1) - .5)\n",
      "\n",
      "ax.set_yticklabels(np.arange(0, num_labels, 1))\n",
      "_=ax.set_yticks(np.arange(0, num_labels, 1) - .5)\n",
      "fig.colorbar(im, ax=ax)"
     ],
     "language": "python",
     "metadata": {},
     "outputs": [
      {
       "metadata": {},
       "output_type": "pyout",
       "prompt_number": 40,
       "text": [
        "<matplotlib.colorbar.Colorbar instance at 0x7fd07d894488>"
       ]
      },
      {
       "metadata": {},
       "output_type": "display_data",
       "png": "[encoded data removed]",
       "text": [
        "<matplotlib.figure.Figure at 0x7fd07da59dd0>"
       ]
      }
     ],
     "prompt_number": 40
    },
    {
     "cell_type": "code",
     "collapsed": false,
     "input": [
      "np.sum(cms[65], axis=1)"
     ],
     "language": "python",
     "metadata": {},
     "outputs": [
      {
       "metadata": {},
       "output_type": "pyout",
       "prompt_number": 51,
       "text": [
        "array([  6,  13,  16,  51,  84, 118, 136, 126,  94,  59,  36,  25,  19,\n",
        "        15,  10,   7,   7,   4,   4,   3,   1,   1,   1])"
       ]
      }
     ],
     "prompt_number": 51
    },
    {
     "cell_type": "code",
     "collapsed": false,
     "input": [],
     "language": "python",
     "metadata": {},
     "outputs": []
    }
   ],
   "metadata": {}
  }
 ]
}