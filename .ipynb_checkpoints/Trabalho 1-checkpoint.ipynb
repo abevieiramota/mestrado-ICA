{
 "metadata": {
  "name": ""
 },
 "nbformat": 3,
 "nbformat_minor": 0,
 "worksheets": [
  {
   "cells": [
    {
     "cell_type": "heading",
     "level": 1,
     "metadata": {},
     "source": [
      "Imports"
     ]
    },
    {
     "cell_type": "code",
     "collapsed": false,
     "input": [
      "import os\n",
      "from matplotlib import pyplot as pl\n",
      "import pandas as pd\n",
      "import numpy as np\n",
      "from math import ceil\n",
      "import random"
     ],
     "language": "python",
     "metadata": {},
     "outputs": [],
     "prompt_number": 41
    },
    {
     "cell_type": "heading",
     "level": 1,
     "metadata": {},
     "source": [
      "Constantes"
     ]
    },
    {
     "cell_type": "code",
     "collapsed": false,
     "input": [
      "DADOS_FOLDER = 'Dados'\n",
      "DADOS_FILENAME = 'abalone.data'\n",
      "\n",
      "DADOS_FILEPATH = os.path.join(DADOS_FOLDER, DADOS_FILENAME)\n",
      "DADOS_COLUMNS = ['Sex', 'Length', 'Diameter', 'Height', 'Whole weight', 'Shucked weight', 'Viscera weight', 'Shell weight', 'Rings']\n",
      "SEX_TO_INT = {\"M\":0, \"F\":1, \"I\":2}"
     ],
     "language": "python",
     "metadata": {},
     "outputs": [],
     "prompt_number": 42
    },
    {
     "cell_type": "heading",
     "level": 1,
     "metadata": {},
     "source": [
      "Carregamento dos dados"
     ]
    },
    {
     "cell_type": "code",
     "collapsed": false,
     "input": [
      "dados = pd.read_csv(DADOS_FILEPATH, sep=',', names=DADOS_COLUMNS, converters={'Sex': lambda x: SEX_TO_INT[x]})"
     ],
     "language": "python",
     "metadata": {},
     "outputs": [],
     "prompt_number": 43
    },
    {
     "cell_type": "heading",
     "level": 1,
     "metadata": {},
     "source": [
      "Adi\u00e7\u00e3o de termo independente"
     ]
    },
    {
     "cell_type": "code",
     "collapsed": false,
     "input": [
      "dados.insert(0, 'indep', 1.)"
     ],
     "language": "python",
     "metadata": {},
     "outputs": [],
     "prompt_number": 44
    },
    {
     "cell_type": "heading",
     "level": 1,
     "metadata": {},
     "source": [
      "M\u00e9todo para sele\u00e7\u00e3o aleat\u00f3ria de samples"
     ]
    },
    {
     "cell_type": "code",
     "collapsed": false,
     "input": [
      "def random_partition(dados, n):\n",
      "    \n",
      "    rows = random.sample(dados.index, n)\n",
      "    \n",
      "    dados_n = dados.ix[rows]\n",
      "    dados_t_n = dados.drop(rows)\n",
      "    \n",
      "    return dados_n, dados_t_n"
     ],
     "language": "python",
     "metadata": {},
     "outputs": [],
     "prompt_number": 45
    },
    {
     "cell_type": "heading",
     "level": 1,
     "metadata": {},
     "source": [
      "$$A = (X^T X)^{-1} X^TY$$"
     ]
    },
    {
     "cell_type": "code",
     "collapsed": false,
     "input": [
      "def min_quad(dados):\n",
      "    \n",
      "    X = dados[dados.columns[:-1]]\n",
      "    Y = dados[dados.columns[-1]]\n",
      "    \n",
      "    XT = X.transpose()\n",
      "    XTX = np.dot(XT, X)\n",
      "    \n",
      "    XTX_1 = np.linalg.solve(XTX, np.identity(XTX.shape[0]))\n",
      "    \n",
      "    return np.dot(np.dot(XTX_1, XT), Y)"
     ],
     "language": "python",
     "metadata": {},
     "outputs": [],
     "prompt_number": 46
    },
    {
     "cell_type": "heading",
     "level": 1,
     "metadata": {},
     "source": [
      "C\u00e1lculos de erros"
     ]
    },
    {
     "cell_type": "code",
     "collapsed": false,
     "input": [
      "def eqm(predicao, real):\n",
      "    \n",
      "    return np.sum((predicao['y'] - real[real.columns[-1]])**2)/len(predicao.index)\n",
      "\n",
      "# recebe a predi\u00e7\u00e3o e os dados agrupados\n",
      "def eqm_por_classe(predicao, real):\n",
      "    \n",
      "    # agrupa pela \u00faltima coluna, a das classes\n",
      "    gb = real.groupby(real.columns[-1])\n",
      "    \n",
      "    taxa_erro = []\n",
      "    \n",
      "    for classe in gb.groups:\n",
      "        \n",
      "        grupo = gb.get_group(classe)\n",
      "        \n",
      "        predicao_do_grupo = predicao.ix[grupo.index]\n",
      "        \n",
      "        real_do_grupo = real.ix[grupo.index]\n",
      "        \n",
      "        taxa_erro.append((classe, eqm(predicao_do_grupo, real_do_grupo)))\n",
      "        \n",
      "    return pd.DataFrame(taxa_erro, columns=['classe', 'eqm'])   \n",
      "\n",
      "def eqm_por_classe(predicao, real, classes):\n",
      "    \n",
      "    gb = real.groupby(real.columns[-1])\n",
      "    \n",
      "    taxas_erros = []\n",
      "    \n",
      "    for classe in classes:\n",
      "        \n",
      "        if classe in gb.groups:\n",
      "            \n",
      "            grupo = gb.get_group(classe)\n",
      "            \n",
      "            predicao_do_grupo = predicao.ix[grupo.index]\n",
      "            \n",
      "            real_do_grupo = real.ix[grupo.index]\n",
      "            \n",
      "            taxa_erro = eqm(predicao_do_grupo, real_do_grupo)\n",
      "        else:\n",
      "            taxa_erro = None\n",
      "            \n",
      "        taxas_erros.append(taxa_erro)\n",
      "        \n",
      "    return taxas_erros"
     ],
     "language": "python",
     "metadata": {},
     "outputs": [],
     "prompt_number": 50
    },
    {
     "cell_type": "heading",
     "level": 1,
     "metadata": {},
     "source": [
      "Execu\u00e7\u00e3o de 100 rodadas com separa\u00e7\u00e3o aleat\u00f3ria de training-set e testing-set com propor\u00e7\u00e3o 80% 20%"
     ]
    },
    {
     "cell_type": "code",
     "collapsed": false,
     "input": [
      "# nome melhor\n",
      "def teste(dados, rodadas, training_set_rate):\n",
      "    \n",
      "    size_dados = len(dados.index)\n",
      "    \n",
      "    size_training_set = int(ceil(size_dados*training_set_rate))\n",
      "    \n",
      "    taxa_erro = []\n",
      "    \n",
      "    classes = np.sort(dados[dados.columns[-1]].unique()).tolist()\n",
      "    \n",
      "    for rodada in xrange(rodadas):\n",
      "        \n",
      "        training_set, test_set = random_partition(dados, size_training_set)\n",
      "        \n",
      "        A = min_quad(training_set)\n",
      "        \n",
      "        predicao_test = pd.DataFrame(np.dot(test_set[test_set.columns[:-1]], A), index=test_set.index, columns=['y'])\n",
      "        \n",
      "        eqm_rodada = eqm(predicao_test, test_set)\n",
      "        \n",
      "#         eqm_por_classe_rodada = eqm_por_classe(predicao_test, test_set)\n",
      "        eqm_por_classe_rodada = eqm_por_classe(predicao_test, test_set, classes)\n",
      "        \n",
      "        taxa_erro.append([rodada, eqm_rodada]+eqm_por_classe_rodada)\n",
      "    \n",
      "    return pd.DataFrame(taxa_erro, columns=['rodada', 'eqm']+classes)\n",
      "        "
     ],
     "language": "python",
     "metadata": {},
     "outputs": [],
     "prompt_number": 64
    },
    {
     "cell_type": "code",
     "collapsed": false,
     "input": [
      "taxa_erro = teste(dados=dados, rodadas=100, training_set_rate=.8)"
     ],
     "language": "python",
     "metadata": {},
     "outputs": [],
     "prompt_number": 65
    },
    {
     "cell_type": "heading",
     "level": 1,
     "metadata": {},
     "source": [
      "EQM m\u00e9dio"
     ]
    },
    {
     "cell_type": "code",
     "collapsed": false,
     "input": [
      "taxa_erro"
     ],
     "language": "python",
     "metadata": {},
     "outputs": [
      {
       "html": [
        "<pre>\n",
        "&lt;class 'pandas.core.frame.DataFrame'&gt;\n",
        "Int64Index: 100 entries, 0 to 99\n",
        "Data columns (total 30 columns):\n",
        "rodada    100  non-null values\n",
        "eqm       100  non-null values\n",
        "1         13  non-null values\n",
        "2         26  non-null values\n",
        "3         96  non-null values\n",
        "4         100  non-null values\n",
        "5         100  non-null values\n",
        "6         100  non-null values\n",
        "7         100  non-null values\n",
        "8         100  non-null values\n",
        "9         100  non-null values\n",
        "10        100  non-null values\n",
        "11        100  non-null values\n",
        "12        100  non-null values\n",
        "13        100  non-null values\n",
        "14        100  non-null values\n",
        "15        100  non-null values\n",
        "16        100  non-null values\n",
        "17        100  non-null values\n",
        "18        100  non-null values\n",
        "19        100  non-null values\n",
        "20        100  non-null values\n",
        "21        98  non-null values\n",
        "22        71  non-null values\n",
        "23        85  non-null values\n",
        "24        36  non-null values\n",
        "25        19  non-null values\n",
        "26        19  non-null values\n",
        "27        48  non-null values\n",
        "29        20  non-null values\n",
        "dtypes: float64(29), int64(1)\n",
        "</pre>"
       ],
       "metadata": {},
       "output_type": "pyout",
       "prompt_number": 66,
       "text": [
        "<class 'pandas.core.frame.DataFrame'>\n",
        "Int64Index: 100 entries, 0 to 99\n",
        "Data columns (total 30 columns):\n",
        "rodada    100  non-null values\n",
        "eqm       100  non-null values\n",
        "1         13  non-null values\n",
        "2         26  non-null values\n",
        "3         96  non-null values\n",
        "4         100  non-null values\n",
        "5         100  non-null values\n",
        "6         100  non-null values\n",
        "7         100  non-null values\n",
        "8         100  non-null values\n",
        "9         100  non-null values\n",
        "10        100  non-null values\n",
        "11        100  non-null values\n",
        "12        100  non-null values\n",
        "13        100  non-null values\n",
        "14        100  non-null values\n",
        "15        100  non-null values\n",
        "16        100  non-null values\n",
        "17        100  non-null values\n",
        "18        100  non-null values\n",
        "19        100  non-null values\n",
        "20        100  non-null values\n",
        "21        98  non-null values\n",
        "22        71  non-null values\n",
        "23        85  non-null values\n",
        "24        36  non-null values\n",
        "25        19  non-null values\n",
        "26        19  non-null values\n",
        "27        48  non-null values\n",
        "29        20  non-null values\n",
        "dtypes: float64(29), int64(1)"
       ]
      }
     ],
     "prompt_number": 66
    },
    {
     "cell_type": "code",
     "collapsed": false,
     "input": [
      "taxa_erro['eqm'].mean()"
     ],
     "language": "python",
     "metadata": {},
     "outputs": [
      {
       "metadata": {},
       "output_type": "pyout",
       "prompt_number": 67,
       "text": [
        "4.9890800127556494"
       ]
      }
     ],
     "prompt_number": 67
    },
    {
     "cell_type": "heading",
     "level": 1,
     "metadata": {},
     "source": [
      "EQM m\u00ednimo"
     ]
    },
    {
     "cell_type": "code",
     "collapsed": false,
     "input": [
      "taxa_erro['eqm'].min()"
     ],
     "language": "python",
     "metadata": {},
     "outputs": [
      {
       "metadata": {},
       "output_type": "pyout",
       "prompt_number": 68,
       "text": [
        "4.1014634151841269"
       ]
      }
     ],
     "prompt_number": 68
    },
    {
     "cell_type": "heading",
     "level": 1,
     "metadata": {},
     "source": [
      "EQM m\u00e1ximo"
     ]
    },
    {
     "cell_type": "code",
     "collapsed": false,
     "input": [
      "taxa_erro['eqm'].max()"
     ],
     "language": "python",
     "metadata": {},
     "outputs": [
      {
       "metadata": {},
       "output_type": "pyout",
       "prompt_number": 69,
       "text": [
        "5.9619348173883795"
       ]
      }
     ],
     "prompt_number": 69
    },
    {
     "cell_type": "heading",
     "level": 1,
     "metadata": {},
     "source": [
      "EQM desvio padr\u00e3o"
     ]
    },
    {
     "cell_type": "code",
     "collapsed": false,
     "input": [
      "taxa_erro['eqm'].var()"
     ],
     "language": "python",
     "metadata": {},
     "outputs": [
      {
       "metadata": {},
       "output_type": "pyout",
       "prompt_number": 70,
       "text": [
        "0.17314842554418591"
       ]
      }
     ],
     "prompt_number": 70
    },
    {
     "cell_type": "heading",
     "level": 1,
     "metadata": {},
     "source": [
      "Taxa de acerto m\u00e9dia por classe"
     ]
    },
    {
     "cell_type": "code",
     "collapsed": false,
     "input": [
      "taxa_erro[taxa_erro.columns[2:]].mean()"
     ],
     "language": "python",
     "metadata": {},
     "outputs": [
      {
       "metadata": {},
       "output_type": "pyout",
       "prompt_number": 73,
       "text": [
        "1       6.916102\n",
        "2       5.638719\n",
        "3       4.362688\n",
        "4       2.762652\n",
        "5       2.732314\n",
        "6       2.830574\n",
        "7       2.011749\n",
        "8       3.271359\n",
        "9       2.169649\n",
        "10      2.669054\n",
        "11      2.474751\n",
        "12      3.967220\n",
        "13      5.463146\n",
        "14      8.135962\n",
        "15     11.327937\n",
        "16     14.601426\n",
        "17     19.444969\n",
        "18     28.602526\n",
        "19     38.461621\n",
        "20     40.478899\n",
        "21     47.434212\n",
        "22     56.970443\n",
        "23     87.302896\n",
        "24     37.610420\n",
        "25     58.032158\n",
        "26    129.651034\n",
        "27     72.300112\n",
        "29    201.195662\n",
        "dtype: float64"
       ]
      }
     ],
     "prompt_number": 73
    },
    {
     "cell_type": "code",
     "collapsed": false,
     "input": [
      "taxa_erro[1]"
     ],
     "language": "python",
     "metadata": {},
     "outputs": [
      {
       "metadata": {},
       "output_type": "pyout",
       "prompt_number": 74,
       "text": [
        "0          NaN\n",
        "1          NaN\n",
        "2     6.944970\n",
        "3     8.032272\n",
        "4          NaN\n",
        "5          NaN\n",
        "6          NaN\n",
        "7          NaN\n",
        "8          NaN\n",
        "9          NaN\n",
        "10         NaN\n",
        "11    6.072686\n",
        "12    6.167395\n",
        "13         NaN\n",
        "14         NaN\n",
        "...\n",
        "85         NaN\n",
        "86         NaN\n",
        "87         NaN\n",
        "88    5.625459\n",
        "89         NaN\n",
        "90         NaN\n",
        "91         NaN\n",
        "92         NaN\n",
        "93    6.775534\n",
        "94         NaN\n",
        "95         NaN\n",
        "96         NaN\n",
        "97         NaN\n",
        "98         NaN\n",
        "99         NaN\n",
        "Name: 1, Length: 100, dtype: float64"
       ]
      }
     ],
     "prompt_number": 74
    },
    {
     "cell_type": "code",
     "collapsed": false,
     "input": [],
     "language": "python",
     "metadata": {},
     "outputs": []
    }
   ],
   "metadata": {}
  }
 ]
}