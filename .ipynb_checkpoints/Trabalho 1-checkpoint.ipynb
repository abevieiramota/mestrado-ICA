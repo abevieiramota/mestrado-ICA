{
 "metadata": {
  "name": ""
 },
 "nbformat": 3,
 "nbformat_minor": 0,
 "worksheets": [
  {
   "cells": [
    {
     "cell_type": "heading",
     "level": 1,
     "metadata": {},
     "source": [
      "Imports"
     ]
    },
    {
     "cell_type": "code",
     "collapsed": false,
     "input": [
      "import os\n",
      "from matplotlib import pyplot as pl\n",
      "import pandas as pd\n",
      "import numpy as np\n",
      "from math import ceil\n",
      "import random"
     ],
     "language": "python",
     "metadata": {},
     "outputs": [],
     "prompt_number": 1
    },
    {
     "cell_type": "heading",
     "level": 1,
     "metadata": {},
     "source": [
      "Constantes"
     ]
    },
    {
     "cell_type": "code",
     "collapsed": false,
     "input": [
      "DADOS_FOLDER = 'Dados'\n",
      "DADOS_FILENAME = 'abalone.data'\n",
      "\n",
      "DADOS_FILEPATH = os.path.join(DADOS_FOLDER, DADOS_FILENAME)\n",
      "DADOS_COLUMNS = ['Sex', 'Length', 'Diameter', 'Height', 'Whole weight', 'Shucked weight', 'Viscera weight', 'Shell weight', 'Rings']\n",
      "SEX_TO_INT = {\"M\":0, \"F\":1, \"I\":2}\n",
      "\n",
      "Y_COLUMN = 'Rings'\n",
      "ARRAY_CLASSES_COLUMN = 'y as vector'"
     ],
     "language": "python",
     "metadata": {},
     "outputs": [],
     "prompt_number": 2
    },
    {
     "cell_type": "heading",
     "level": 1,
     "metadata": {},
     "source": [
      "Carregamento dos dados"
     ]
    },
    {
     "cell_type": "code",
     "collapsed": false,
     "input": [
      "dados = pd.read_csv(DADOS_FILEPATH, sep=',', names=DADOS_COLUMNS, converters={'Sex': lambda x: SEX_TO_INT[x]})"
     ],
     "language": "python",
     "metadata": {},
     "outputs": [],
     "prompt_number": 3
    },
    {
     "cell_type": "heading",
     "level": 1,
     "metadata": {},
     "source": [
      "Convers\u00e3o da coluna Y para vetor de 0's e 1's"
     ]
    },
    {
     "cell_type": "code",
     "collapsed": false,
     "input": [
      "def to_array_classes(y, num_classes, map_index):\n",
      "    \n",
      "    array = np.zeros(num_classes)\n",
      "    \n",
      "    index = map_index[y]\n",
      "    \n",
      "    array[index] = 1.\n",
      "    \n",
      "    return array\n",
      "    \n",
      "def add_arrays_classes(dados):\n",
      "    \n",
      "    classes = dados.groupby(dados.columns[-1]).groups.keys()\n",
      "    \n",
      "    map_key_index = dict(zip(classes, xrange(len(classes))))\n",
      "    \n",
      "    y_as_array_classes = np.array([to_array_classes(y, len(classes), map_key_index) for y in dados[dados.columns[-1]]])\n",
      "    \n",
      "    for i in xrange(len(classes)):\n",
      "        \n",
      "        dados[\"y array %d\" % i] = np.zeros(len(dados.index))\n",
      "        \n",
      "    for i, y_as_array_classe in zip(dados.index, y_as_array_classes):\n",
      "        \n",
      "        for j in xrange(len(classes)):\n",
      "            \n",
      "            dados.ix[i][\"y array %d\" % j] = y_as_array_classe\n",
      "            \n",
      "\n",
      "#     print dados.shape    \n",
      "#     dados[ARRAY_CLASSES_COLUMN] = np.array([to_array_classes(y, len(classes), map_key_index) for y in dados[dados.columns[-1]]])\n",
      "#     print rr.shape\n",
      "#     dados[ARRAY_CLASSES_COLUMN] = \n",
      "    \n",
      "    return map_key_index\n",
      "\n",
      "map_key_index = add_arrays_classes(dados)    "
     ],
     "language": "python",
     "metadata": {},
     "outputs": [],
     "prompt_number": 5
    },
    {
     "cell_type": "heading",
     "level": 1,
     "metadata": {},
     "source": [
      "Adi\u00e7\u00e3o de termo independente"
     ]
    },
    {
     "cell_type": "code",
     "collapsed": false,
     "input": [
      "dados"
     ],
     "language": "python",
     "metadata": {},
     "outputs": [
      {
       "html": [
        "<pre>\n",
        "&lt;class 'pandas.core.frame.DataFrame'&gt;\n",
        "Int64Index: 4177 entries, 0 to 4176\n",
        "Data columns (total 37 columns):\n",
        "Sex               4177  non-null values\n",
        "Length            4177  non-null values\n",
        "Diameter          4177  non-null values\n",
        "Height            4177  non-null values\n",
        "Whole weight      4177  non-null values\n",
        "Shucked weight    4177  non-null values\n",
        "Viscera weight    4177  non-null values\n",
        "Shell weight      4177  non-null values\n",
        "Rings             4177  non-null values\n",
        "y array 0         4177  non-null values\n",
        "y array 1         4177  non-null values\n",
        "y array 2         4177  non-null values\n",
        "y array 3         4177  non-null values\n",
        "y array 4         4177  non-null values\n",
        "y array 5         4177  non-null values\n",
        "y array 6         4177  non-null values\n",
        "y array 7         4177  non-null values\n",
        "y array 8         4177  non-null values\n",
        "y array 9         4177  non-null values\n",
        "y array 10        4177  non-null values\n",
        "y array 11        4177  non-null values\n",
        "y array 12        4177  non-null values\n",
        "y array 13        4177  non-null values\n",
        "y array 14        4177  non-null values\n",
        "y array 15        4177  non-null values\n",
        "y array 16        4177  non-null values\n",
        "y array 17        4177  non-null values\n",
        "y array 18        4177  non-null values\n",
        "y array 19        4177  non-null values\n",
        "y array 20        4177  non-null values\n",
        "y array 21        4177  non-null values\n",
        "y array 22        4177  non-null values\n",
        "y array 23        4177  non-null values\n",
        "y array 24        4177  non-null values\n",
        "y array 25        4177  non-null values\n",
        "y array 26        4177  non-null values\n",
        "y array 27        4177  non-null values\n",
        "dtypes: float64(35), int64(2)\n",
        "</pre>"
       ],
       "metadata": {},
       "output_type": "pyout",
       "prompt_number": 6,
       "text": [
        "<class 'pandas.core.frame.DataFrame'>\n",
        "Int64Index: 4177 entries, 0 to 4176\n",
        "Data columns (total 37 columns):\n",
        "Sex               4177  non-null values\n",
        "Length            4177  non-null values\n",
        "Diameter          4177  non-null values\n",
        "Height            4177  non-null values\n",
        "Whole weight      4177  non-null values\n",
        "Shucked weight    4177  non-null values\n",
        "Viscera weight    4177  non-null values\n",
        "Shell weight      4177  non-null values\n",
        "Rings             4177  non-null values\n",
        "y array 0         4177  non-null values\n",
        "y array 1         4177  non-null values\n",
        "y array 2         4177  non-null values\n",
        "y array 3         4177  non-null values\n",
        "y array 4         4177  non-null values\n",
        "y array 5         4177  non-null values\n",
        "y array 6         4177  non-null values\n",
        "y array 7         4177  non-null values\n",
        "y array 8         4177  non-null values\n",
        "y array 9         4177  non-null values\n",
        "y array 10        4177  non-null values\n",
        "y array 11        4177  non-null values\n",
        "y array 12        4177  non-null values\n",
        "y array 13        4177  non-null values\n",
        "y array 14        4177  non-null values\n",
        "y array 15        4177  non-null values\n",
        "y array 16        4177  non-null values\n",
        "y array 17        4177  non-null values\n",
        "y array 18        4177  non-null values\n",
        "y array 19        4177  non-null values\n",
        "y array 20        4177  non-null values\n",
        "y array 21        4177  non-null values\n",
        "y array 22        4177  non-null values\n",
        "y array 23        4177  non-null values\n",
        "y array 24        4177  non-null values\n",
        "y array 25        4177  non-null values\n",
        "y array 26        4177  non-null values\n",
        "y array 27        4177  non-null values\n",
        "dtypes: float64(35), int64(2)"
       ]
      }
     ],
     "prompt_number": 6
    },
    {
     "cell_type": "code",
     "collapsed": false,
     "input": [
      "dados.insert(0, 'indep', 1.)"
     ],
     "language": "python",
     "metadata": {},
     "outputs": []
    },
    {
     "cell_type": "heading",
     "level": 1,
     "metadata": {},
     "source": [
      "M\u00e9todo para sele\u00e7\u00e3o aleat\u00f3ria de samples"
     ]
    },
    {
     "cell_type": "code",
     "collapsed": false,
     "input": [
      "def random_partition(dados, n):\n",
      "    \n",
      "    rows = random.sample(dados.index, n)\n",
      "    \n",
      "    dados_n = dados.ix[rows]\n",
      "    dados_t_n = dados.drop(rows)\n",
      "    \n",
      "    return dados_n, dados_t_n"
     ],
     "language": "python",
     "metadata": {},
     "outputs": []
    },
    {
     "cell_type": "heading",
     "level": 1,
     "metadata": {},
     "source": [
      "$$A = (X^T X)^{-1} X^TY$$"
     ]
    },
    {
     "cell_type": "code",
     "collapsed": false,
     "input": [
      "a = min_quad(dados[:100])"
     ],
     "language": "python",
     "metadata": {},
     "outputs": []
    },
    {
     "cell_type": "code",
     "collapsed": false,
     "input": [],
     "language": "python",
     "metadata": {},
     "outputs": []
    },
    {
     "cell_type": "code",
     "collapsed": false,
     "input": [
      "def min_quad(dados):\n",
      "    \n",
      "    X = dados.ix[:,:Y_COLUMN]\n",
      "    Y = dados[ARRAY_CLASSES_COLUMN]\n",
      "    \n",
      "    XT = X.transpose()\n",
      "    XTX = np.dot(XT, X)\n",
      "    \n",
      "    XTX_1 = np.linalg.solve(XTX, np.identity(XTX.shape[0]))\n",
      "    \n",
      "    return np.dot(np.dot(XTX_1, XT), Y)"
     ],
     "language": "python",
     "metadata": {},
     "outputs": []
    },
    {
     "cell_type": "heading",
     "level": 1,
     "metadata": {},
     "source": [
      "C\u00e1lculos de erros"
     ]
    },
    {
     "cell_type": "code",
     "collapsed": false,
     "input": [
      "def eqm(predicao, real):\n",
      "    \n",
      "    # corrigir!\n",
      "    return np.sum(([p.max() for p in predicao[Y_COLUMN]] - real[Y_COLUMN])**2)/len(predicao.index)\n",
      "\n",
      "# recebe a predi\u00e7\u00e3o e os dados agrupados\n",
      "def eqm_por_classe(predicao, real):\n",
      "    \n",
      "    # agrupa pela \u00faltima coluna, a das classes\n",
      "    gb = real.groupby(real[Y_COLUMN])\n",
      "    \n",
      "    taxa_erro = []\n",
      "    \n",
      "    for classe in gb.groups:\n",
      "        \n",
      "        grupo = gb.get_group(classe)\n",
      "        \n",
      "        predicao_do_grupo = predicao.ix[grupo.index]\n",
      "        \n",
      "        real_do_grupo = real.ix[grupo.index]\n",
      "        \n",
      "        taxa_erro.append((classe, eqm(predicao_do_grupo, real_do_grupo)))\n",
      "        \n",
      "    return pd.DataFrame(taxa_erro, columns=['classe', 'eqm'])   \n",
      "\n",
      "def eqm_por_classe(predicao, real, classes):\n",
      "    \n",
      "    gb = real.groupby(real[Y_COLUMN])\n",
      "    \n",
      "    taxas_erros = []\n",
      "    \n",
      "    for classe in classes:\n",
      "        \n",
      "        if classe in gb.groups:\n",
      "            \n",
      "            grupo = gb.get_group(classe)\n",
      "            \n",
      "            predicao_do_grupo = predicao.ix[grupo.index]\n",
      "            \n",
      "            real_do_grupo = real.ix[grupo.index]\n",
      "            \n",
      "            taxa_erro = eqm(predicao_do_grupo, real_do_grupo)\n",
      "        else:\n",
      "            taxa_erro = None\n",
      "            \n",
      "        taxas_erros.append(taxa_erro)\n",
      "        \n",
      "    return taxas_erros"
     ],
     "language": "python",
     "metadata": {},
     "outputs": []
    },
    {
     "cell_type": "heading",
     "level": 1,
     "metadata": {},
     "source": [
      "Execu\u00e7\u00e3o de 100 rodadas com separa\u00e7\u00e3o aleat\u00f3ria de training-set e testing-set com propor\u00e7\u00e3o 80% 20%"
     ]
    },
    {
     "cell_type": "code",
     "collapsed": false,
     "input": [
      "# nome melhor\n",
      "def teste(dados, rodadas, training_set_rate):\n",
      "    \n",
      "    size_dados = len(dados.index)\n",
      "    \n",
      "    size_training_set = int(ceil(size_dados*training_set_rate))\n",
      "    \n",
      "    taxa_erro = []\n",
      "    \n",
      "    classes = np.sort(dados[Y_COLUMN].unique()).tolist()\n",
      "    \n",
      "    for rodada in xrange(rodadas):\n",
      "        \n",
      "        training_set, test_set = random_partition(dados, size_training_set)\n",
      "        \n",
      "        A = min_quad(training_set)\n",
      "        \n",
      "        predicao_test = pd.DataFrame(np.dot(test_set.ix[:, :Y_COLUMN], A), index=test_set.index, columns=[Y_COLUMN])\n",
      "        \n",
      "        eqm_rodada = eqm(predicao_test, test_set)\n",
      "        \n",
      "        eqm_por_classe_rodada = eqm_por_classe(predicao_test, test_set, classes)\n",
      "        \n",
      "        taxa_erro.append([rodada, A, eqm_rodada]+eqm_por_classe_rodada)\n",
      "    \n",
      "    return pd.DataFrame(taxa_erro, columns=['rodada', 'pesos', 'eqm']+classes)\n",
      "        "
     ],
     "language": "python",
     "metadata": {},
     "outputs": []
    },
    {
     "cell_type": "code",
     "collapsed": false,
     "input": [
      "taxa_erro = teste(dados=dados, rodadas=100, training_set_rate=.8)"
     ],
     "language": "python",
     "metadata": {},
     "outputs": []
    },
    {
     "cell_type": "heading",
     "level": 1,
     "metadata": {},
     "source": [
      "EQM m\u00e9dio"
     ]
    },
    {
     "cell_type": "code",
     "collapsed": false,
     "input": [
      "taxa_erro.ix[0]['pesos'].shape"
     ],
     "language": "python",
     "metadata": {},
     "outputs": []
    },
    {
     "cell_type": "code",
     "collapsed": false,
     "input": [
      "taxa_erro['eqm'].mean()"
     ],
     "language": "python",
     "metadata": {},
     "outputs": []
    },
    {
     "cell_type": "heading",
     "level": 1,
     "metadata": {},
     "source": [
      "EQM m\u00ednimo"
     ]
    },
    {
     "cell_type": "code",
     "collapsed": false,
     "input": [
      "taxa_erro['eqm'].min()"
     ],
     "language": "python",
     "metadata": {},
     "outputs": []
    },
    {
     "cell_type": "heading",
     "level": 1,
     "metadata": {},
     "source": [
      "EQM m\u00e1ximo"
     ]
    },
    {
     "cell_type": "code",
     "collapsed": false,
     "input": [
      "taxa_erro['eqm'].max()"
     ],
     "language": "python",
     "metadata": {},
     "outputs": []
    },
    {
     "cell_type": "heading",
     "level": 1,
     "metadata": {},
     "source": [
      "EQM desvio padr\u00e3o"
     ]
    },
    {
     "cell_type": "code",
     "collapsed": false,
     "input": [
      "taxa_erro['eqm'].var()"
     ],
     "language": "python",
     "metadata": {},
     "outputs": []
    },
    {
     "cell_type": "heading",
     "level": 1,
     "metadata": {},
     "source": [
      "Taxa de acerto m\u00e9dia por classe"
     ]
    },
    {
     "cell_type": "code",
     "collapsed": false,
     "input": [
      "taxa_erro[taxa_erro.columns[2:]].mean()"
     ],
     "language": "python",
     "metadata": {},
     "outputs": []
    },
    {
     "cell_type": "code",
     "collapsed": false,
     "input": [
      "taxa_erro[1]"
     ],
     "language": "python",
     "metadata": {},
     "outputs": []
    },
    {
     "cell_type": "code",
     "collapsed": false,
     "input": [],
     "language": "python",
     "metadata": {},
     "outputs": []
    }
   ],
   "metadata": {}
  }
 ]
}