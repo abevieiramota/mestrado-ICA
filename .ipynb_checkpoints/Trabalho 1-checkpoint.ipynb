{
 "metadata": {
  "name": ""
 },
 "nbformat": 3,
 "nbformat_minor": 0,
 "worksheets": [
  {
   "cells": [
    {
     "cell_type": "heading",
     "level": 1,
     "metadata": {},
     "source": [
      "Imports"
     ]
    },
    {
     "cell_type": "code",
     "collapsed": false,
     "input": [
      "import os\n",
      "from matplotlib import pyplot as pl\n",
      "import numpy as np\n",
      "from math import ceil\n",
      "import random\n",
      "import pandas as pd"
     ],
     "language": "python",
     "metadata": {},
     "outputs": [],
     "prompt_number": 2
    },
    {
     "cell_type": "heading",
     "level": 1,
     "metadata": {},
     "source": [
      "Constantes"
     ]
    },
    {
     "cell_type": "code",
     "collapsed": false,
     "input": [
      "DADOS_FOLDER = 'Dados'\n",
      "DADOS_FILENAME = 'abalone.data'\n",
      "DADOS_FILEPATH = os.path.join(DADOS_FOLDER, DADOS_FILENAME)\n",
      "\n",
      "DADOS_COLUMNS = ['Sex', 'Length', 'Diameter', 'Height', 'Whole weight', 'Shucked weight', 'Viscera weight', 'Shell weight', 'Rings']\n",
      "SEX_TO_INT = {\"M\":-1, \"F\":1, \"I\":0}"
     ],
     "language": "python",
     "metadata": {},
     "outputs": [],
     "prompt_number": 3
    },
    {
     "cell_type": "heading",
     "level": 1,
     "metadata": {},
     "source": [
      "Carregamento dos dados"
     ]
    },
    {
     "cell_type": "code",
     "collapsed": false,
     "input": [
      "dados = np.genfromtxt(DADOS_FILEPATH, delimiter=',', converters={ 0: lambda x: SEX_TO_INT[x]})"
     ],
     "language": "python",
     "metadata": {},
     "outputs": [],
     "prompt_number": 4
    },
    {
     "cell_type": "code",
     "collapsed": false,
     "input": [
      "# necess\u00e1rio para transformar o array retornado de array de dado estruturado em array apenas(shape (4177,) para (4177,9))\n",
      "# TODO: buscar solu\u00e7\u00e3o para a leitura de dados com genfromtxt, com convers\u00e3o de dados de string para float e com uso de names\n",
      "dados = np.asarray(dados.tolist())"
     ],
     "language": "python",
     "metadata": {},
     "outputs": [],
     "prompt_number": 5
    },
    {
     "cell_type": "heading",
     "level": 1,
     "metadata": {},
     "source": [
      "Convers\u00e3o da coluna Y para vetor de 0's e 1's"
     ]
    },
    {
     "cell_type": "code",
     "collapsed": false,
     "input": [
      "# retorna o array de Ys convertido em arrays de 0's e 1's \n",
      "# fun\u00e7\u00e3o que faz a convers\u00e3o inversa\n",
      "# classes\n",
      "def to_array_classes(ys):\n",
      "    \n",
      "    classes = np.unique(ys)\n",
      "    num_classes = classes.size\n",
      "    \n",
      "    # TODO: buscar usar bidirectional dict\n",
      "    map_index_classe = dict(zip(xrange(num_classes), classes))\n",
      "    \n",
      "    map_classe_index = dict(zip(classes, xrange(num_classes)))\n",
      "\n",
      "    y_as_array_classes = np.zeros((ys.size, num_classes))\n",
      "    \n",
      "    for i, y in enumerate(ys):\n",
      "        \n",
      "        y_as_array_classes[i][map_classe_index[y]] = 1\n",
      "        \n",
      "    def converte_i(x, m_i_c):\n",
      "        i = x.argmax()\n",
      "        return m_i_c[i]\n",
      "    \n",
      "    def converte(x):\n",
      "        return np.apply_along_axis(converte_i, 1, x, map_index_classe)\n",
      "        \n",
      "    return y_as_array_classes, converte, classes.tolist()"
     ],
     "language": "python",
     "metadata": {},
     "outputs": [],
     "prompt_number": 19
    },
    {
     "cell_type": "heading",
     "level": 1,
     "metadata": {},
     "source": [
      "Adi\u00e7\u00e3o de termo independente"
     ]
    },
    {
     "cell_type": "code",
     "collapsed": false,
     "input": [
      "dados = np.hstack((np.ones((dados.shape[0], 1), dtype=dados.dtype), dados))"
     ],
     "language": "python",
     "metadata": {},
     "outputs": [],
     "prompt_number": 7
    },
    {
     "cell_type": "heading",
     "level": 1,
     "metadata": {},
     "source": [
      "Fun\u00e7\u00e3o para gera\u00e7\u00e3o de parti\u00e7\u00f5es randomicas"
     ]
    },
    {
     "cell_type": "code",
     "collapsed": false,
     "input": [
      "def random_partition(X, Y, n):\n",
      "    \n",
      "    indices = numpy.random.permutation(X.shape[0])\n",
      "    \n",
      "    list_1_indices = indices[:n]\n",
      "    list_2_indices = indices[n:]\n",
      "    \n",
      "    return X[list_1_indices, :], Y[list_1_indices, :], X[list_2_indices, :], Y[list_2_indices, :]"
     ],
     "language": "python",
     "metadata": {},
     "outputs": [],
     "prompt_number": 8
    },
    {
     "cell_type": "heading",
     "level": 1,
     "metadata": {},
     "source": [
      "$$A = (X^T X)^{-1} X^T Y$$"
     ]
    },
    {
     "cell_type": "code",
     "collapsed": false,
     "input": [
      "def min_quad(X, Y):\n",
      "    \n",
      "    XT = X.transpose()\n",
      "    XTX = np.dot(XT, X)\n",
      "    \n",
      "    XTX_1 = np.linalg.solve(XTX, np.identity(XTX.shape[0]))\n",
      "    \n",
      "    return np.dot(np.dot(XTX_1, XT), Y)"
     ],
     "language": "python",
     "metadata": {},
     "outputs": [],
     "prompt_number": 9
    },
    {
     "cell_type": "heading",
     "level": 1,
     "metadata": {},
     "source": [
      "C\u00e1lculos de erros"
     ]
    },
    {
     "cell_type": "code",
     "collapsed": false,
     "input": [
      "def taxa_acerto(predicao, real):\n",
      "    \n",
      "    return np.count_nonzero(predicao - real)\n",
      "    \n",
      "\n",
      "def eqm(predicao, real):\n",
      "    \n",
      "    return np.sum((predicao - real)**2)/len(predicao)  \n",
      "\n",
      "def eqm_por_classe(predicao, real, classes):\n",
      "    \n",
      "    from collections import defaultdict\n",
      "    \n",
      "    eqm_classes_valor = defaultdict(float)\n",
      "    eqm_classes_qtd = defaultdict(float)\n",
      "    \n",
      "    for i in xrange(len(real)):\n",
      "        \n",
      "        r = real[i]\n",
      "        p = predicao[i]\n",
      "        \n",
      "        eqm_classes_valor[r] += (p-r)**2.\n",
      "        eqm_classes_qtd[r] += 1.\n",
      "    \n",
      "    for classe, valor in eqm_classes_valor.iteritems():\n",
      "        eqm_classes_valor[classe] = valor/eqm_classes_qtd[classe]       \n",
      "        \n",
      "    return [eqm_classes_valor[classe] for classe in classes]"
     ],
     "language": "python",
     "metadata": {},
     "outputs": [],
     "prompt_number": 10
    },
    {
     "cell_type": "heading",
     "level": 1,
     "metadata": {},
     "source": [
      "Execu\u00e7\u00e3o de 100 rodadas com separa\u00e7\u00e3o aleat\u00f3ria de training-set e testing-set com propor\u00e7\u00e3o 80% 20%"
     ]
    },
    {
     "cell_type": "code",
     "collapsed": false,
     "input": [
      "# nome melhor\n",
      "def teste(dados, rodadas=100, training_set_rate=.5):\n",
      "    \n",
      "    y_as_array_classes, from_01s_to_classe, classes = to_array_classes(dados[:, -1])\n",
      "    \n",
      "    size_dados = dados.shape[0]\n",
      "    \n",
      "    size_training_set = int(ceil(size_dados*training_set_rate))\n",
      "    \n",
      "    taxa_erro = []\n",
      "    \n",
      "    X = dados[:, :-1]\n",
      "    Y = y_as_array_classes\n",
      "    \n",
      "    for rodada in xrange(rodadas):\n",
      "        \n",
      "        X_training, Y_training, X_test, Y_test = random_partition(X, Y, size_training_set)\n",
      "        \n",
      "        A = min_quad(X_training, Y_training)\n",
      "        \n",
      "        predicao_test = np.dot(X_test, A)\n",
      "        \n",
      "        predicao_test_classes = from_01s_to_classe(predicao_test)\n",
      "        Y_test_classes = from_01s_to_classe(Y_test)\n",
      "    \n",
      "        eqm_rodada = eqm(predicao_test_classes, Y_test_classes)\n",
      "        taxa_acerto_rodada = taxa_acerto(predicao_test_classes, Y_test_classes)\n",
      "        \n",
      "        eqm_por_classe_rodada = eqm_por_classe(predicao_test_classes, Y_test_classes, classes)\n",
      "        \n",
      "        taxa_erro.append([rodada, A, eqm_rodada, taxa_acerto_rodada]+eqm_por_classe_rodada)\n",
      "    \n",
      "    return pd.DataFrame(taxa_erro, columns=['rodada', 'pesos', 'eqm', 'taxa de acerto']+classes), from_01s_to_classe\n",
      "        "
     ],
     "language": "python",
     "metadata": {},
     "outputs": [],
     "prompt_number": 20
    },
    {
     "cell_type": "code",
     "collapsed": false,
     "input": [
      "resultado, from_01s_to_classe = teste(dados, rodadas=100, training_set_rate=.8)"
     ],
     "language": "python",
     "metadata": {},
     "outputs": [],
     "prompt_number": 21
    },
    {
     "cell_type": "heading",
     "level": 1,
     "metadata": {},
     "source": [
      "EQM m\u00e9dio"
     ]
    },
    {
     "cell_type": "code",
     "collapsed": false,
     "input": [
      "resultado['eqm'].mean()"
     ],
     "language": "python",
     "metadata": {},
     "outputs": [
      {
       "metadata": {},
       "output_type": "pyout",
       "prompt_number": 22,
       "text": [
        "7.7850299401197613"
       ]
      }
     ],
     "prompt_number": 22
    },
    {
     "cell_type": "heading",
     "level": 1,
     "metadata": {},
     "source": [
      "EQM m\u00ednimo"
     ]
    },
    {
     "cell_type": "code",
     "collapsed": false,
     "input": [
      "resultado['eqm'].min()"
     ],
     "language": "python",
     "metadata": {},
     "outputs": [
      {
       "metadata": {},
       "output_type": "pyout",
       "prompt_number": 23,
       "text": [
        "6.4898203592814374"
       ]
      }
     ],
     "prompt_number": 23
    },
    {
     "cell_type": "heading",
     "level": 1,
     "metadata": {},
     "source": [
      "EQM m\u00e1ximo"
     ]
    },
    {
     "cell_type": "code",
     "collapsed": false,
     "input": [
      "resultado['eqm'].max()"
     ],
     "language": "python",
     "metadata": {},
     "outputs": [
      {
       "metadata": {},
       "output_type": "pyout",
       "prompt_number": 24,
       "text": [
        "9.4359281437125748"
       ]
      }
     ],
     "prompt_number": 24
    },
    {
     "cell_type": "heading",
     "level": 1,
     "metadata": {},
     "source": [
      "EQM desvio padr\u00e3o"
     ]
    },
    {
     "cell_type": "code",
     "collapsed": false,
     "input": [
      "resultado['eqm'].var()"
     ],
     "language": "python",
     "metadata": {},
     "outputs": [
      {
       "metadata": {},
       "output_type": "pyout",
       "prompt_number": 25,
       "text": [
        "0.40824812360397394"
       ]
      }
     ],
     "prompt_number": 25
    },
    {
     "cell_type": "heading",
     "level": 1,
     "metadata": {},
     "source": [
      "Taxa de acerto m\u00e9dia por classe"
     ]
    },
    {
     "cell_type": "code",
     "collapsed": false,
     "input": [
      "resultado['taxa de acerto'].hist()"
     ],
     "language": "python",
     "metadata": {},
     "outputs": [
      {
       "metadata": {},
       "output_type": "pyout",
       "prompt_number": 26,
       "text": [
        "<matplotlib.axes.AxesSubplot at 0x3148410>"
       ]
      },
      {
       "metadata": {},
       "output_type": "display_data",
       "png": "[encoded data removed]",
       "text": [
        "<matplotlib.figure.Figure at 0x3148710>"
       ]
      }
     ],
     "prompt_number": 26
    },
    {
     "cell_type": "code",
     "collapsed": false,
     "input": [
      "t"
     ],
     "language": "python",
     "metadata": {},
     "outputs": []
    }
   ],
   "metadata": {}
  }
 ]
}