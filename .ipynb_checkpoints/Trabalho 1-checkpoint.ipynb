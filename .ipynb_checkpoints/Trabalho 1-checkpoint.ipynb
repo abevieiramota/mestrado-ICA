{
 "metadata": {
  "name": ""
 },
 "nbformat": 3,
 "nbformat_minor": 0,
 "worksheets": [
  {
   "cells": [
    {
     "cell_type": "heading",
     "level": 1,
     "metadata": {},
     "source": [
      "Imports"
     ]
    },
    {
     "cell_type": "code",
     "collapsed": false,
     "input": [
      "import os\n",
      "from matplotlib import pyplot as pl\n",
      "import numpy as np\n",
      "from math import ceil\n",
      "import random"
     ],
     "language": "python",
     "metadata": {},
     "outputs": [],
     "prompt_number": 1
    },
    {
     "cell_type": "heading",
     "level": 1,
     "metadata": {},
     "source": [
      "Constantes"
     ]
    },
    {
     "cell_type": "code",
     "collapsed": false,
     "input": [
      "DADOS_FOLDER = 'Dados'\n",
      "DADOS_FILENAME = 'abalone.data'\n",
      "\n",
      "DADOS_FILEPATH = os.path.join(DADOS_FOLDER, DADOS_FILENAME)\n",
      "DADOS_COLUMNS = ['Sex', 'Length', 'Diameter', 'Height', 'Whole weight', 'Shucked weight', 'Viscera weight', 'Shell weight', 'Rings']\n",
      "SEX_TO_INT = {\"M\":-10, \"F\":10, \"I\":0}\n",
      "\n",
      "# Y_COLUMN = 'Rings'\n",
      "# ARRAY_CLASSES_COLUMN = 'y as vector'"
     ],
     "language": "python",
     "metadata": {},
     "outputs": [],
     "prompt_number": 2
    },
    {
     "cell_type": "heading",
     "level": 1,
     "metadata": {},
     "source": [
      "Carregamento dos dados"
     ]
    },
    {
     "cell_type": "code",
     "collapsed": false,
     "input": [
      "dados = np.genfromtxt(DADOS_FILEPATH, delimiter=',', converters={ 0: lambda x: SEX_TO_INT[x]}, names=DADOS_COLUMNS)"
     ],
     "language": "python",
     "metadata": {},
     "outputs": [],
     "prompt_number": 3
    },
    {
     "cell_type": "code",
     "collapsed": false,
     "input": [
      "# necess\u00e1rio para transformar o array retornado de array de dado estruturado em array apenas(shape (4177,) para (4177,9))\n",
      "dados = np.asarray(dados.tolist())"
     ],
     "language": "python",
     "metadata": {},
     "outputs": [],
     "prompt_number": 4
    },
    {
     "cell_type": "heading",
     "level": 1,
     "metadata": {},
     "source": [
      "Convers\u00e3o da coluna Y para vetor de 0's e 1's"
     ]
    },
    {
     "cell_type": "code",
     "collapsed": false,
     "input": [
      "# retorna o array de Ys convertido em arrays de 0's e 1's com um mapeamento de \u00edndices e classes tal que:\n",
      "#    map_index_classe[y_as_array_classes[x].argmax()] = ys[x]\n",
      "#    map_classe_index[ys[x]] = y_as_array_classes[x].argmax()\n",
      "def to_array_classes(ys):\n",
      "    \n",
      "    classes = np.unique(ys)\n",
      "    num_classes = len(classes)\n",
      "    \n",
      "    # buscar usar bidirectional dict\n",
      "    map_index_classe = dict(zip(xrange(num_classes), classes))\n",
      "    \n",
      "    map_classe_index = dict(zip(classes, xrange(num_classes)))\n",
      "\n",
      "    y_as_array_classes = np.zeros((len(ys), num_classes))\n",
      "    \n",
      "    for i, y in enumerate(ys):\n",
      "        \n",
      "        y_as_array_classes[i][map_classe_index[y]] = 1\n",
      "        \n",
      "    return y_as_array_classes, map_index_classe, map_classe_index    "
     ],
     "language": "python",
     "metadata": {},
     "outputs": [],
     "prompt_number": 5
    },
    {
     "cell_type": "code",
     "collapsed": false,
     "input": [
      "y_as_array_classes, m_i_c, m_c_i = to_array_classes(dados[:, -1])"
     ],
     "language": "python",
     "metadata": {},
     "outputs": [],
     "prompt_number": 6
    },
    {
     "cell_type": "heading",
     "level": 1,
     "metadata": {},
     "source": [
      "Adi\u00e7\u00e3o de termo independente"
     ]
    },
    {
     "cell_type": "code",
     "collapsed": false,
     "input": [
      "dados = np.hstack((np.ones((dados.shape[0], 1), dtype=dados.dtype), dados))"
     ],
     "language": "python",
     "metadata": {},
     "outputs": [],
     "prompt_number": 7
    },
    {
     "cell_type": "heading",
     "level": 1,
     "metadata": {},
     "source": [
      "Fun\u00e7\u00e3o para gera\u00e7\u00e3o de parti\u00e7\u00f5es randomicas"
     ]
    },
    {
     "cell_type": "code",
     "collapsed": false,
     "input": [
      "def random_partition(dados, n):\n",
      "    \n",
      "    indices = numpy.random.permutation(dados.shape[0])\n",
      "    \n",
      "    list_1_indices = indices[:n]\n",
      "    list_2_indices = indices[n:]\n",
      "    \n",
      "    return dados[list_1_indices, :], dados[list_2_indices, :]"
     ],
     "language": "python",
     "metadata": {},
     "outputs": [],
     "prompt_number": 8
    },
    {
     "cell_type": "heading",
     "level": 1,
     "metadata": {},
     "source": [
      "$$A = (X^T X)^{-1} X^T Y$$"
     ]
    },
    {
     "cell_type": "code",
     "collapsed": false,
     "input": [
      "def min_quad(X, Y):\n",
      "    \n",
      "    XT = X.transpose()\n",
      "    XTX = np.dot(XT, X)\n",
      "    \n",
      "    XTX_1 = np.linalg.solve(XTX, np.identity(XTX.shape[0]))\n",
      "    \n",
      "    return np.dot(np.dot(XTX_1, XT), Y)"
     ],
     "language": "python",
     "metadata": {},
     "outputs": [],
     "prompt_number": 9
    },
    {
     "cell_type": "code",
     "collapsed": false,
     "input": [
      "X = dados[:, :-1]\n",
      "A = min_quad(X, y_as_array_classes)"
     ],
     "language": "python",
     "metadata": {},
     "outputs": [],
     "prompt_number": 10
    },
    {
     "cell_type": "code",
     "collapsed": false,
     "input": [
      "y_as_array_classes[1]"
     ],
     "language": "python",
     "metadata": {},
     "outputs": [
      {
       "metadata": {},
       "output_type": "pyout",
       "prompt_number": 11,
       "text": [
        "array([ 0.,  0.,  0.,  0.,  0.,  0.,  1.,  0.,  0.,  0.,  0.,  0.,  0.,\n",
        "        0.,  0.,  0.,  0.,  0.,  0.,  0.,  0.,  0.,  0.,  0.,  0.,  0.,\n",
        "        0.,  0.])"
       ]
      }
     ],
     "prompt_number": 11
    },
    {
     "cell_type": "code",
     "collapsed": false,
     "input": [
      "diff = np.array([m_i_c[x.argmax()] for x in y_as_array_classes]) - np.array([m_i_c[x.argmax()] for x in np.dot(X, A)])\n",
      "\n",
      "np.count_nonzero(diff)"
     ],
     "language": "python",
     "metadata": {},
     "outputs": [
      {
       "metadata": {},
       "output_type": "pyout",
       "prompt_number": 12,
       "text": [
        "3137"
       ]
      }
     ],
     "prompt_number": 12
    },
    {
     "cell_type": "heading",
     "level": 1,
     "metadata": {},
     "source": [
      "C\u00e1lculos de erros"
     ]
    },
    {
     "cell_type": "code",
     "collapsed": false,
     "input": [
      "def eqm(predicao, real):\n",
      "    \n",
      "    # corrigir!\n",
      "    return np.sum(([p.max() for p in predicao[Y_COLUMN]] - real[Y_COLUMN])**2)/len(predicao.index)\n",
      "\n",
      "# recebe a predi\u00e7\u00e3o e os dados agrupados\n",
      "def eqm_por_classe(predicao, real):\n",
      "    \n",
      "    # agrupa pela \u00faltima coluna, a das classes\n",
      "    gb = real.groupby(real[Y_COLUMN])\n",
      "    \n",
      "    taxa_erro = []\n",
      "    \n",
      "    for classe in gb.groups:\n",
      "        \n",
      "        grupo = gb.get_group(classe)\n",
      "        \n",
      "        predicao_do_grupo = predicao.ix[grupo.index]\n",
      "        \n",
      "        real_do_grupo = real.ix[grupo.index]\n",
      "        \n",
      "        taxa_erro.append((classe, eqm(predicao_do_grupo, real_do_grupo)))\n",
      "        \n",
      "    return pd.DataFrame(taxa_erro, columns=['classe', 'eqm'])   \n",
      "\n",
      "def eqm_por_classe(predicao, real, classes):\n",
      "    \n",
      "    gb = real.groupby(real[Y_COLUMN])\n",
      "    \n",
      "    taxas_erros = []\n",
      "    \n",
      "    for classe in classes:\n",
      "        \n",
      "        if classe in gb.groups:\n",
      "            \n",
      "            grupo = gb.get_group(classe)\n",
      "            \n",
      "            predicao_do_grupo = predicao.ix[grupo.index]\n",
      "            \n",
      "            real_do_grupo = real.ix[grupo.index]\n",
      "            \n",
      "            taxa_erro = eqm(predicao_do_grupo, real_do_grupo)\n",
      "        else:\n",
      "            taxa_erro = None\n",
      "            \n",
      "        taxas_erros.append(taxa_erro)\n",
      "        \n",
      "    return taxas_erros"
     ],
     "language": "python",
     "metadata": {},
     "outputs": []
    },
    {
     "cell_type": "heading",
     "level": 1,
     "metadata": {},
     "source": [
      "Execu\u00e7\u00e3o de 100 rodadas com separa\u00e7\u00e3o aleat\u00f3ria de training-set e testing-set com propor\u00e7\u00e3o 80% 20%"
     ]
    },
    {
     "cell_type": "code",
     "collapsed": false,
     "input": [
      "# nome melhor\n",
      "def teste(dados, rodadas, training_set_rate):\n",
      "    \n",
      "    size_dados = len(dados.index)\n",
      "    \n",
      "    size_training_set = int(ceil(size_dados*training_set_rate))\n",
      "    \n",
      "    taxa_erro = []\n",
      "    \n",
      "    classes = np.sort(dados[Y_COLUMN].unique()).tolist()\n",
      "    \n",
      "    for rodada in xrange(rodadas):\n",
      "        \n",
      "        training_set, test_set = random_partition(dados, size_training_set)\n",
      "        \n",
      "        A = min_quad(training_set)\n",
      "        \n",
      "        predicao_test = pd.DataFrame(np.dot(test_set.ix[:, :Y_COLUMN], A), index=test_set.index, columns=[Y_COLUMN])\n",
      "        \n",
      "        eqm_rodada = eqm(predicao_test, test_set)\n",
      "        \n",
      "        eqm_por_classe_rodada = eqm_por_classe(predicao_test, test_set, classes)\n",
      "        \n",
      "        taxa_erro.append([rodada, A, eqm_rodada]+eqm_por_classe_rodada)\n",
      "    \n",
      "    return pd.DataFrame(taxa_erro, columns=['rodada', 'pesos', 'eqm']+classes)\n",
      "        "
     ],
     "language": "python",
     "metadata": {},
     "outputs": []
    },
    {
     "cell_type": "code",
     "collapsed": false,
     "input": [
      "taxa_erro = teste(dados=dados, rodadas=100, training_set_rate=.8)"
     ],
     "language": "python",
     "metadata": {},
     "outputs": []
    },
    {
     "cell_type": "heading",
     "level": 1,
     "metadata": {},
     "source": [
      "EQM m\u00e9dio"
     ]
    },
    {
     "cell_type": "code",
     "collapsed": false,
     "input": [
      "taxa_erro.ix[0]['pesos'].shape"
     ],
     "language": "python",
     "metadata": {},
     "outputs": []
    },
    {
     "cell_type": "code",
     "collapsed": false,
     "input": [
      "taxa_erro['eqm'].mean()"
     ],
     "language": "python",
     "metadata": {},
     "outputs": []
    },
    {
     "cell_type": "heading",
     "level": 1,
     "metadata": {},
     "source": [
      "EQM m\u00ednimo"
     ]
    },
    {
     "cell_type": "code",
     "collapsed": false,
     "input": [
      "taxa_erro['eqm'].min()"
     ],
     "language": "python",
     "metadata": {},
     "outputs": []
    },
    {
     "cell_type": "heading",
     "level": 1,
     "metadata": {},
     "source": [
      "EQM m\u00e1ximo"
     ]
    },
    {
     "cell_type": "code",
     "collapsed": false,
     "input": [
      "taxa_erro['eqm'].max()"
     ],
     "language": "python",
     "metadata": {},
     "outputs": []
    },
    {
     "cell_type": "heading",
     "level": 1,
     "metadata": {},
     "source": [
      "EQM desvio padr\u00e3o"
     ]
    },
    {
     "cell_type": "code",
     "collapsed": false,
     "input": [
      "taxa_erro['eqm'].var()"
     ],
     "language": "python",
     "metadata": {},
     "outputs": []
    },
    {
     "cell_type": "heading",
     "level": 1,
     "metadata": {},
     "source": [
      "Taxa de acerto m\u00e9dia por classe"
     ]
    },
    {
     "cell_type": "code",
     "collapsed": false,
     "input": [
      "taxa_erro[taxa_erro.columns[2:]].mean()"
     ],
     "language": "python",
     "metadata": {},
     "outputs": []
    },
    {
     "cell_type": "code",
     "collapsed": false,
     "input": [
      "taxa_erro[1]"
     ],
     "language": "python",
     "metadata": {},
     "outputs": []
    },
    {
     "cell_type": "code",
     "collapsed": false,
     "input": [],
     "language": "python",
     "metadata": {},
     "outputs": []
    }
   ],
   "metadata": {}
  }
 ]
}