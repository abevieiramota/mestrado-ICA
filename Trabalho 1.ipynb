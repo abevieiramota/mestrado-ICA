{
 "metadata": {
  "name": ""
 },
 "nbformat": 3,
 "nbformat_minor": 0,
 "worksheets": [
  {
   "cells": [
    {
     "cell_type": "heading",
     "level": 1,
     "metadata": {},
     "source": [
      "Imports"
     ]
    },
    {
     "cell_type": "code",
     "collapsed": false,
     "input": [
      "import os\n",
      "from matplotlib import pyplot as pl\n",
      "import pandas as pd\n",
      "import numpy as np\n",
      "from math import ceil\n",
      "import random"
     ],
     "language": "python",
     "metadata": {},
     "outputs": [],
     "prompt_number": 135
    },
    {
     "cell_type": "heading",
     "level": 1,
     "metadata": {},
     "source": [
      "Constantes"
     ]
    },
    {
     "cell_type": "code",
     "collapsed": false,
     "input": [
      "DADOS_FOLDER = 'Dados'\n",
      "DADOS_FILENAME = 'abalone.data'\n",
      "\n",
      "DADOS_FILEPATH = os.path.join(DADOS_FOLDER, DADOS_FILENAME)\n",
      "DADOS_COLUMNS = ['Sex', 'Length', 'Diameter', 'Height', 'Whole weight', 'Shucked weight', 'Viscera weight', 'Shell weight', 'Rings']\n",
      "SEX_TO_INT = {\"M\":0, \"F\":1, \"I\":2}\n",
      "\n",
      "def sex_to_int(sex):\n",
      "    \n",
      "    return SEX_TO_INT[sex]"
     ],
     "language": "python",
     "metadata": {},
     "outputs": [],
     "prompt_number": 136
    },
    {
     "cell_type": "heading",
     "level": 1,
     "metadata": {},
     "source": [
      "Carregamento dos dados"
     ]
    },
    {
     "cell_type": "code",
     "collapsed": false,
     "input": [
      "dados = pd.read_csv(DADOS_FILEPATH, sep=',', names=DADOS_COLUMNS)"
     ],
     "language": "python",
     "metadata": {},
     "outputs": [],
     "prompt_number": 137
    },
    {
     "cell_type": "heading",
     "level": 1,
     "metadata": {},
     "source": [
      "Convers\u00e3o dos valos de Sex por inteiros"
     ]
    },
    {
     "cell_type": "code",
     "collapsed": false,
     "input": [
      "dados['Sex'] = np.where(dados['Sex'] == 'M', 0, np.where(dados['Sex'] == 'F', 1, 2)) "
     ],
     "language": "python",
     "metadata": {},
     "outputs": [],
     "prompt_number": 138
    },
    {
     "cell_type": "heading",
     "level": 1,
     "metadata": {},
     "source": [
      "Adi\u00e7\u00e3o de termo independente"
     ]
    },
    {
     "cell_type": "code",
     "collapsed": false,
     "input": [
      "dados.insert(0, 'indep', 1.)"
     ],
     "language": "python",
     "metadata": {},
     "outputs": [],
     "prompt_number": 139
    },
    {
     "cell_type": "heading",
     "level": 1,
     "metadata": {},
     "source": [
      "M\u00e9todo para sele\u00e7\u00e3o aleat\u00f3ria de samples"
     ]
    },
    {
     "cell_type": "code",
     "collapsed": false,
     "input": [
      "def random_partition(dados, n):\n",
      "    \n",
      "    rows = random.sample(dados.index, n)\n",
      "    \n",
      "    dados_n = dados.ix[rows]\n",
      "    dados_t_n = dados.drop(rows)\n",
      "    \n",
      "    return dados_n, dados_t_n"
     ],
     "language": "python",
     "metadata": {},
     "outputs": [],
     "prompt_number": 140
    },
    {
     "cell_type": "heading",
     "level": 1,
     "metadata": {},
     "source": [
      "$$A = (X^T X)^{-1} X^TY$$"
     ]
    },
    {
     "cell_type": "code",
     "collapsed": false,
     "input": [
      "def min_quad(dados):\n",
      "    \n",
      "    X = dados[dados.columns[:-1]]\n",
      "    Y = dados[dados.columns[-1]]\n",
      "    \n",
      "    XT = X.transpose()\n",
      "    XTX = np.dot(XT, X)\n",
      "    \n",
      "    XTX_1 = np.linalg.solve(XTX, np.identity(XTX.shape[0]))\n",
      "    \n",
      "    return np.dot(np.dot(XTX_1, XT), Y)"
     ],
     "language": "python",
     "metadata": {},
     "outputs": [],
     "prompt_number": 141
    },
    {
     "cell_type": "heading",
     "level": 1,
     "metadata": {},
     "source": [
      "C\u00e1lculos de erros"
     ]
    },
    {
     "cell_type": "code",
     "collapsed": false,
     "input": [
      "gb = dados.groupby('Rings')"
     ],
     "language": "python",
     "metadata": {},
     "outputs": [],
     "prompt_number": 154
    },
    {
     "cell_type": "code",
     "collapsed": false,
     "input": [
      "def eqm(predicao, real):\n",
      "    \n",
      "    return np.sum((predicao['y'] - real[real.columns[-1]])**2)/len(predicao.index)\n",
      "\n",
      "# recebe a predi\u00e7\u00e3o e os dados agrupados\n",
      "def eqm_por_classe(predicao, real):\n",
      "    \n",
      "    # agrupa pela \u00faltima coluna, a das classes\n",
      "    gb = real.groupby(real.columns[-1])\n",
      "    \n",
      "    taxa_erro = []\n",
      "    \n",
      "    for classe in gb.groups:\n",
      "        \n",
      "        grupo = gb.get_group(classe)\n",
      "        \n",
      "        predicao_do_grupo = predicao.ix[grupo.index]\n",
      "        \n",
      "        real_do_grupo = real.ix[grupo.index]\n",
      "        \n",
      "        taxa_erro.append((classe, eqm(predicao_do_grupo, real_do_grupo)))\n",
      "        \n",
      "    return pd.DataFrame(taxa_erro, columns=['classe', 'eqm'])        "
     ],
     "language": "python",
     "metadata": {},
     "outputs": [],
     "prompt_number": 165
    },
    {
     "cell_type": "heading",
     "level": 1,
     "metadata": {},
     "source": [
      "Execu\u00e7\u00e3o de 100 rodadas com separa\u00e7\u00e3o aleat\u00f3ria de training-set e testing-set com propor\u00e7\u00e3o 80% 20%"
     ]
    },
    {
     "cell_type": "code",
     "collapsed": false,
     "input": [
      "# nome melhor\n",
      "def teste(dados, rodadas, training_set_rate):\n",
      "    \n",
      "    size_dados = len(dados.index)\n",
      "    \n",
      "    size_training_set = int(ceil(size_dados*training_set_rate))\n",
      "    \n",
      "    taxa_erro = []\n",
      "    \n",
      "    for rodada in xrange(rodadas):\n",
      "        \n",
      "        training_set, test_set = random_partition(dados, size_training_set)\n",
      "        \n",
      "        A = min_quad(training_set)\n",
      "        \n",
      "        predicao_test = pd.DataFrame(np.dot(test_set[test_set.columns[:-1]], A), index=test_set.index, columns=['y'])\n",
      "        \n",
      "        eqm_rodada = eqm(predicao_test, test_set)\n",
      "        \n",
      "        eqm_por_classe_rodada = eqm_por_classe(predicao_test, test_set)\n",
      "        \n",
      "        taxa_erro.append((rodada, eqm_rodada, eqm_por_classe_rodada))\n",
      "    \n",
      "    return pd.DataFrame(taxa_erro, columns=['rodada', 'eqm', 'eqm por classe'])\n",
      "        "
     ],
     "language": "python",
     "metadata": {},
     "outputs": [],
     "prompt_number": 166
    },
    {
     "cell_type": "code",
     "collapsed": false,
     "input": [
      "taxa_erro = teste(dados=dados, rodadas=100, training_set_rate=.8)"
     ],
     "language": "python",
     "metadata": {},
     "outputs": [],
     "prompt_number": 167
    },
    {
     "cell_type": "heading",
     "level": 1,
     "metadata": {},
     "source": [
      "EQM m\u00e9dio"
     ]
    },
    {
     "cell_type": "code",
     "collapsed": false,
     "input": [
      "taxa_erro['eqm'].mean()"
     ],
     "language": "python",
     "metadata": {},
     "outputs": [
      {
       "metadata": {},
       "output_type": "pyout",
       "prompt_number": 168,
       "text": [
        "4.9320072359628169"
       ]
      }
     ],
     "prompt_number": 168
    },
    {
     "cell_type": "heading",
     "level": 1,
     "metadata": {},
     "source": [
      "EQM m\u00ednimo"
     ]
    },
    {
     "cell_type": "code",
     "collapsed": false,
     "input": [
      "taxa_erro['eqm'].min()"
     ],
     "language": "python",
     "metadata": {},
     "outputs": [
      {
       "metadata": {},
       "output_type": "pyout",
       "prompt_number": 169,
       "text": [
        "3.922597353839115"
       ]
      }
     ],
     "prompt_number": 169
    },
    {
     "cell_type": "heading",
     "level": 1,
     "metadata": {},
     "source": [
      "EQM m\u00e1ximo"
     ]
    },
    {
     "cell_type": "code",
     "collapsed": false,
     "input": [
      "taxa_erro['eqm'].max()"
     ],
     "language": "python",
     "metadata": {},
     "outputs": [
      {
       "metadata": {},
       "output_type": "pyout",
       "prompt_number": 170,
       "text": [
        "6.1880558673401538"
       ]
      }
     ],
     "prompt_number": 170
    },
    {
     "cell_type": "heading",
     "level": 1,
     "metadata": {},
     "source": [
      "EQM desvio padr\u00e3o"
     ]
    },
    {
     "cell_type": "code",
     "collapsed": false,
     "input": [
      "taxa_erro['eqm'].var()"
     ],
     "language": "python",
     "metadata": {},
     "outputs": [
      {
       "metadata": {},
       "output_type": "pyout",
       "prompt_number": 171,
       "text": [
        "0.15967463327225426"
       ]
      }
     ],
     "prompt_number": 171
    },
    {
     "cell_type": "heading",
     "level": 1,
     "metadata": {},
     "source": [
      "Taxa de acerto m\u00e9dia por classe"
     ]
    },
    {
     "cell_type": "code",
     "collapsed": false,
     "input": [
      "taxa_erro['eqm por classe'][2]"
     ],
     "language": "python",
     "metadata": {},
     "outputs": [
      {
       "html": [
        "<div style=\"max-height:1000px;max-width:1500px;overflow:auto;\">\n",
        "<table border=\"1\" class=\"dataframe\">\n",
        "  <thead>\n",
        "    <tr style=\"text-align: right;\">\n",
        "      <th></th>\n",
        "      <th>classe</th>\n",
        "      <th>eqm</th>\n",
        "    </tr>\n",
        "  </thead>\n",
        "  <tbody>\n",
        "    <tr>\n",
        "      <th>0 </th>\n",
        "      <td>  3</td>\n",
        "      <td>  3.793799</td>\n",
        "    </tr>\n",
        "    <tr>\n",
        "      <th>1 </th>\n",
        "      <td>  4</td>\n",
        "      <td>  2.619162</td>\n",
        "    </tr>\n",
        "    <tr>\n",
        "      <th>2 </th>\n",
        "      <td>  5</td>\n",
        "      <td>  3.397570</td>\n",
        "    </tr>\n",
        "    <tr>\n",
        "      <th>3 </th>\n",
        "      <td>  6</td>\n",
        "      <td>  2.458642</td>\n",
        "    </tr>\n",
        "    <tr>\n",
        "      <th>4 </th>\n",
        "      <td>  7</td>\n",
        "      <td>  2.130211</td>\n",
        "    </tr>\n",
        "    <tr>\n",
        "      <th>5 </th>\n",
        "      <td>  8</td>\n",
        "      <td>  6.127444</td>\n",
        "    </tr>\n",
        "    <tr>\n",
        "      <th>6 </th>\n",
        "      <td>  9</td>\n",
        "      <td>  1.825661</td>\n",
        "    </tr>\n",
        "    <tr>\n",
        "      <th>7 </th>\n",
        "      <td> 10</td>\n",
        "      <td>  3.489662</td>\n",
        "    </tr>\n",
        "    <tr>\n",
        "      <th>8 </th>\n",
        "      <td> 11</td>\n",
        "      <td>  2.031805</td>\n",
        "    </tr>\n",
        "    <tr>\n",
        "      <th>9 </th>\n",
        "      <td> 12</td>\n",
        "      <td>  4.124130</td>\n",
        "    </tr>\n",
        "    <tr>\n",
        "      <th>10</th>\n",
        "      <td> 13</td>\n",
        "      <td>  6.537189</td>\n",
        "    </tr>\n",
        "    <tr>\n",
        "      <th>11</th>\n",
        "      <td> 14</td>\n",
        "      <td>  5.977328</td>\n",
        "    </tr>\n",
        "    <tr>\n",
        "      <th>12</th>\n",
        "      <td> 15</td>\n",
        "      <td>  9.985910</td>\n",
        "    </tr>\n",
        "    <tr>\n",
        "      <th>13</th>\n",
        "      <td> 16</td>\n",
        "      <td>  8.168247</td>\n",
        "    </tr>\n",
        "    <tr>\n",
        "      <th>14</th>\n",
        "      <td> 17</td>\n",
        "      <td> 20.475143</td>\n",
        "    </tr>\n",
        "    <tr>\n",
        "      <th>15</th>\n",
        "      <td> 18</td>\n",
        "      <td> 23.172999</td>\n",
        "    </tr>\n",
        "    <tr>\n",
        "      <th>16</th>\n",
        "      <td> 19</td>\n",
        "      <td> 34.065536</td>\n",
        "    </tr>\n",
        "    <tr>\n",
        "      <th>17</th>\n",
        "      <td> 20</td>\n",
        "      <td> 34.110491</td>\n",
        "    </tr>\n",
        "    <tr>\n",
        "      <th>18</th>\n",
        "      <td> 21</td>\n",
        "      <td> 18.247885</td>\n",
        "    </tr>\n",
        "    <tr>\n",
        "      <th>19</th>\n",
        "      <td> 22</td>\n",
        "      <td> 68.322057</td>\n",
        "    </tr>\n",
        "    <tr>\n",
        "      <th>20</th>\n",
        "      <td> 24</td>\n",
        "      <td> 39.441050</td>\n",
        "    </tr>\n",
        "  </tbody>\n",
        "</table>\n",
        "</div>"
       ],
       "metadata": {},
       "output_type": "pyout",
       "prompt_number": 177,
       "text": [
        "    classe        eqm\n",
        "0        3   3.793799\n",
        "1        4   2.619162\n",
        "2        5   3.397570\n",
        "3        6   2.458642\n",
        "4        7   2.130211\n",
        "5        8   6.127444\n",
        "6        9   1.825661\n",
        "7       10   3.489662\n",
        "8       11   2.031805\n",
        "9       12   4.124130\n",
        "10      13   6.537189\n",
        "11      14   5.977328\n",
        "12      15   9.985910\n",
        "13      16   8.168247\n",
        "14      17  20.475143\n",
        "15      18  23.172999\n",
        "16      19  34.065536\n",
        "17      20  34.110491\n",
        "18      21  18.247885\n",
        "19      22  68.322057\n",
        "20      24  39.441050"
       ]
      }
     ],
     "prompt_number": 177
    },
    {
     "cell_type": "code",
     "collapsed": false,
     "input": [],
     "language": "python",
     "metadata": {},
     "outputs": []
    }
   ],
   "metadata": {}
  }
 ]
}